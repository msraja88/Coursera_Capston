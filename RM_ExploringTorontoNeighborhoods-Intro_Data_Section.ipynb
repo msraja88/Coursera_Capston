{
    "cells": [
        {
            "source": [
                "<center><h1>Exploring Toronto Neighborhoods to open an Indian Restaurant.</h1></center>"
            ],
            "cell_type": "markdown",
            "metadata": {
                "collapsed": true
            }
        },
        {
            "source": [
                "<h2>Introduction</h2>\n",
                "\n",
                "As a part of IBM Data Science professional certification Capstone Project, we have to work on the real data to get an exprencies of what a data scientists go through in real life. I would like to explore the city Toronto and the objectives of this assignments is to define a business problem, find data in the web and, use Foursquare location data to compare different neighborhoods of Toronto to figure out which neighborhood is suitable for starting a new restaurant business. I go through all the process in a step by step manner from Business problem, data preparation to final analysis and finally will provide a conclusion that can be leveraged by the business stakeholders to make their decisions.\n",
                "\n",
                "\n"
            ],
            "cell_type": "markdown",
            "metadata": {}
        },
        {
            "source": [
                "<h2>1. Description of the Problem</h2>\n",
                "\n",
                "<h3>Prospects of a opening an Indian Restaurant in Toronto, Canada.</h3>\n",
                "\n",
                "Toronto, the capital of the province of Ontario, is the most widespread Canadian city. Its diversity is reflected in Toronto’s ethnic neighborhoods such as Chinatown, Corso Italia, Greektown, Kensington Market, Koreatown, Little India, Little Italy, Little Jamaica, Little Portugal & Roncesvalles. One of the most immigrant-friendly cities in Canada with more than half of the entire Indian Canadian population be located in Toronto. it might be one of the best places to start an Indian restaurant. In this project we will go through step by step process to make a decision whether it is a good idea to open an Indian restaurant. We analyse the neighborhoods in Toronto to identify the most profitable area since the success of the restaurant depends on the people and ambience. Since we already know that Toronto shelter a greater number of Indians than any other city in Canada, it is a good idea to start the restaurant here. Let us analyse and explore whether it is a profitable idea or not. If profitable in which place we can start the restaurant, so that it gets more profit to the owner.\n"
            ],
            "cell_type": "markdown",
            "metadata": {}
        },
        {
            "source": [
                "<h3>Who will be more interested in this project?</h3>\n",
                "\n",
                "<h3> What type of clients or a group of people would be benefitted?</h3>\n",
                "1. Business personnel who wants to invest or open an Indian restaurant in Toronto. This analysis will be a comprehensive guide to start or expand restaurants targeting the Indian crowd. <br>\n",
                "2. Freelancer who loves to have their own restaurant as a side business. This analysis will give an idea, how beneficial it is to open a restaurant and what are the pros and cons of this business. <br> \n",
                "3.\tIndian crowd who wants to find neighborhoods with lots of option for Indian restaurants. <br> \n",
                "4.\tBusiness Analyst or Data Scientists, who wish to analyze the neighborhoods of Toronto using Exploratory Data Analysis and other statistical & machine learning techniques to obtain all the necessary data, perform some operations on it and, finally be able to tell a story out of it.\n"
            ],
            "cell_type": "markdown",
            "metadata": {}
        },
        {
            "source": [
                "<h2>2. Data acquisition and cleaning</h2>\n"
            ],
            "cell_type": "markdown",
            "metadata": {}
        },
        {
            "source": [
                "<h3>2.1 Data Sources</h3>\n",
                "\n",
                "a) I’m using “List of Postal code of Canada: M” (https://en.wikipedia.org/wiki/List_of_postal_codes_of_Canada:_M) wiki page to get all the information about the neighborhoods present in Toronto. This page has the postal code, borough & the name of all the neighborhoods present in Toronto. \n",
                "\n",
                "b) Then I’m using “https://cocl.us/Geospatial_data” csv file to get all the geographical coordinates of the neighborhoods. \n",
                "\n",
                "c) To get information about the distribution of population by their ethnicity I’m using “Demographics of Toronto” (https://en.m.wikipedia.org/wiki/Demographics_of_Toronto#Ethnic_diversity) wiki page. Using this page I’m going to identify the neighborhoods which are densely populated with Indians as it might be helpful in identifying the suitable neighborhood to open a new Indian restaurant. \n",
                "\n",
                "d) To get location and other information about various venues in Toronto I’m using Foursquare’s explore API. Using the Foursquare’s explore API (which gives venues recommendations), I’m fetching details about the venues up present in Toronto and collected their names, categories and locations (latitude and longitude). \n",
                "From Foursquare API (https://developer.foursquare.com/docs), I retrieved the following for each venue:\n",
                "<li>Name: The name of the venue. </li>\n",
                "<li>Category: The category type as defined by the API.</li>\n",
                "<li>Latitude: The latitude value of the venue.</li>\n",
                "<li>Longitude: The longitude value of the venue.</li>"
            ],
            "cell_type": "markdown",
            "metadata": {}
        },
        {
            "source": [
                "<h3>2.2 Data Cleaning</h3>\n",
                "\n",
                "<h4>a) Scraping Toronto Neighborhoods Table from Wikipedia</h4>\n",
                "\n",
                "#### Scraped the following Wikipedia page, “List of Postal code of Canada: M” in order to obtain the data about the Toronto & the Neighborhoods in it.\n",
                "\n",
                "<u> Assumptions made to attain the below DataFrame:</u>\n",
                "<li>Dataframe will consist of three columns: PostalCode, Borough, and Neighborhood</li>\n",
                "<li>Only the cells that have an assigned borough will be processed. Borough that is not assigned are ignored.</li>\n",
                "<li>More than one neighborhood can exist in one postal code area. For example, in the table on the Wikipedia page, you will notice that M5A is listed twice and has two neighborhoods: Harbourfront and Regent Park. These two rows will be combined into one row with the neighborhoods separated with a comma as shown in row 11 in the above table.</li>\n",
                "<li>If a cell has a borough but a Not assigned neighborhood, then the neighborhood will be the same as the borough.</li>\n",
                "\n",
                "wikipedia - package is used to scrape the data from wiki."
            ],
            "cell_type": "markdown",
            "metadata": {}
        },
        {
            "cell_type": "code",
            "execution_count": 1,
            "metadata": {},
            "outputs": [],
            "source": [
                "#!conda install -c conda-forge wikipedia --yes # Uncomment this if it is not already installed\n",
                "import pandas as pd\n",
                "import numpy as np\n",
                "import wikipedia as wp\n",
                "import lxml"
            ]
        },
        {
            "cell_type": "code",
            "execution_count": 2,
            "metadata": {},
            "outputs": [
                {
                    "output_type": "execute_result",
                    "data": {
                        "text/plain": "  Postal Code           Borough               Neighborhood\n0         M1A      Not assigned                        NaN\n1         M2A      Not assigned                        NaN\n2         M3A        North York                  Parkwoods\n3         M4A        North York           Victoria Village\n4         M5A  Downtown Toronto  Regent Park, Harbourfront",
                        "text/html": "<div>\n<style scoped>\n    .dataframe tbody tr th:only-of-type {\n        vertical-align: middle;\n    }\n\n    .dataframe tbody tr th {\n        vertical-align: top;\n    }\n\n    .dataframe thead th {\n        text-align: right;\n    }\n</style>\n<table border=\"1\" class=\"dataframe\">\n  <thead>\n    <tr style=\"text-align: right;\">\n      <th></th>\n      <th>Postal Code</th>\n      <th>Borough</th>\n      <th>Neighborhood</th>\n    </tr>\n  </thead>\n  <tbody>\n    <tr>\n      <th>0</th>\n      <td>M1A</td>\n      <td>Not assigned</td>\n      <td>NaN</td>\n    </tr>\n    <tr>\n      <th>1</th>\n      <td>M2A</td>\n      <td>Not assigned</td>\n      <td>NaN</td>\n    </tr>\n    <tr>\n      <th>2</th>\n      <td>M3A</td>\n      <td>North York</td>\n      <td>Parkwoods</td>\n    </tr>\n    <tr>\n      <th>3</th>\n      <td>M4A</td>\n      <td>North York</td>\n      <td>Victoria Village</td>\n    </tr>\n    <tr>\n      <th>4</th>\n      <td>M5A</td>\n      <td>Downtown Toronto</td>\n      <td>Regent Park, Harbourfront</td>\n    </tr>\n  </tbody>\n</table>\n</div>"
                    },
                    "metadata": {},
                    "execution_count": 2
                }
            ],
            "source": [
                "html = wp.page(\"List of postal codes of Canada: M\").html().encode(\"UTF-8\")\n",
                "CanadaPOdf = pd.read_html(html, header = 0)[0]\n",
                "CanadaPOdf.head()"
            ]
        },
        {
            "source": [
                "<h4>b) Adding geographical coordinates to the neighborhoods</h4>\n",
                "\n",
                "Next important step is adding the geographical coordinates to these neighborhoods. To do so I'm extracting the data present in the Geospatial Data csv file and I'm combining it with the existing neighborhood dataframe by merging them both based on the postal code.  "
            ],
            "cell_type": "markdown",
            "metadata": {}
        },
        {
            "cell_type": "code",
            "execution_count": 3,
            "metadata": {},
            "outputs": [
                {
                    "output_type": "execute_result",
                    "data": {
                        "text/plain": "  Postal Code   Latitude  Longitude\n0         M1B  43.806686 -79.194353\n1         M1C  43.784535 -79.160497\n2         M1E  43.763573 -79.188711\n3         M1G  43.770992 -79.216917\n4         M1H  43.773136 -79.239476",
                        "text/html": "<div>\n<style scoped>\n    .dataframe tbody tr th:only-of-type {\n        vertical-align: middle;\n    }\n\n    .dataframe tbody tr th {\n        vertical-align: top;\n    }\n\n    .dataframe thead th {\n        text-align: right;\n    }\n</style>\n<table border=\"1\" class=\"dataframe\">\n  <thead>\n    <tr style=\"text-align: right;\">\n      <th></th>\n      <th>Postal Code</th>\n      <th>Latitude</th>\n      <th>Longitude</th>\n    </tr>\n  </thead>\n  <tbody>\n    <tr>\n      <th>0</th>\n      <td>M1B</td>\n      <td>43.806686</td>\n      <td>-79.194353</td>\n    </tr>\n    <tr>\n      <th>1</th>\n      <td>M1C</td>\n      <td>43.784535</td>\n      <td>-79.160497</td>\n    </tr>\n    <tr>\n      <th>2</th>\n      <td>M1E</td>\n      <td>43.763573</td>\n      <td>-79.188711</td>\n    </tr>\n    <tr>\n      <th>3</th>\n      <td>M1G</td>\n      <td>43.770992</td>\n      <td>-79.216917</td>\n    </tr>\n    <tr>\n      <th>4</th>\n      <td>M1H</td>\n      <td>43.773136</td>\n      <td>-79.239476</td>\n    </tr>\n  </tbody>\n</table>\n</div>"
                    },
                    "metadata": {},
                    "execution_count": 3
                }
            ],
            "source": [
                "import io\n",
                "import requests\n",
                "\n",
                "url = \"https://cocl.us/Geospatial_data\"\n",
                "lat_long = requests.get(url).text\n",
                "lat_long_df=pd.read_csv(io.StringIO(lat_long))\n",
                "lat_long_df.head()"
            ]
        },
        {
            "execution_count": 4,
            "cell_type": "code",
            "metadata": {},
            "outputs": [
                {
                    "output_type": "execute_result",
                    "data": {
                        "text/plain": "  Postalcode           Borough                                 Neighborhood\n2        M3A        North York                                    Parkwoods\n3        M4A        North York                             Victoria Village\n4        M5A  Downtown Toronto                    Regent Park, Harbourfront\n5        M6A        North York             Lawrence Manor, Lawrence Heights\n6        M7A  Downtown Toronto  Queen's Park, Ontario Provincial Government",
                        "text/html": "<div>\n<style scoped>\n    .dataframe tbody tr th:only-of-type {\n        vertical-align: middle;\n    }\n\n    .dataframe tbody tr th {\n        vertical-align: top;\n    }\n\n    .dataframe thead th {\n        text-align: right;\n    }\n</style>\n<table border=\"1\" class=\"dataframe\">\n  <thead>\n    <tr style=\"text-align: right;\">\n      <th></th>\n      <th>Postalcode</th>\n      <th>Borough</th>\n      <th>Neighborhood</th>\n    </tr>\n  </thead>\n  <tbody>\n    <tr>\n      <th>2</th>\n      <td>M3A</td>\n      <td>North York</td>\n      <td>Parkwoods</td>\n    </tr>\n    <tr>\n      <th>3</th>\n      <td>M4A</td>\n      <td>North York</td>\n      <td>Victoria Village</td>\n    </tr>\n    <tr>\n      <th>4</th>\n      <td>M5A</td>\n      <td>Downtown Toronto</td>\n      <td>Regent Park, Harbourfront</td>\n    </tr>\n    <tr>\n      <th>5</th>\n      <td>M6A</td>\n      <td>North York</td>\n      <td>Lawrence Manor, Lawrence Heights</td>\n    </tr>\n    <tr>\n      <th>6</th>\n      <td>M7A</td>\n      <td>Downtown Toronto</td>\n      <td>Queen's Park, Ontario Provincial Government</td>\n    </tr>\n  </tbody>\n</table>\n</div>"
                    },
                    "metadata": {},
                    "execution_count": 4
                }
            ],
            "source": [
                "#Only process the cells that have an assigned borough. Ignore cells with a borough that is Not assigned.\n",
                "CanadaPOdf = CanadaPOdf[CanadaPOdf.Borough != 'Not assigned']\n",
                "CanadaPOdf = CanadaPOdf.rename(columns={'Postal Code': 'Postalcode'})\n",
                "\n",
                "#If a cell has a borough but a Not assigned neighborhood, then the neighborhood will be the same as the borough. \n",
                "#So for the 9th cell in the table on the Wikipedia page, the value of the Borough and the Neighborhood columns will be Queen's Park.\n",
                "for index, row in CanadaPOdf.iterrows():\n",
                "    if row['Neighborhood'] == 'Not assigned':\n",
                "        row['Neighborhood'] = row['Borough']\n",
                "\n",
                "\n",
                "CanadaPOdf.head()"
            ]
        },
        {
            "execution_count": 5,
            "cell_type": "code",
            "metadata": {},
            "outputs": [
                {
                    "output_type": "execute_result",
                    "data": {
                        "text/plain": "           Borough Postalcode                       Neighborhood\n0  Central Toronto        M4N                      Lawrence Park\n1  Central Toronto        M4P                   Davisville North\n2  Central Toronto        M4R  North Toronto West, Lawrence Park\n3  Central Toronto        M4S                         Davisville\n4  Central Toronto        M4T        Moore Park, Summerhill East",
                        "text/html": "<div>\n<style scoped>\n    .dataframe tbody tr th:only-of-type {\n        vertical-align: middle;\n    }\n\n    .dataframe tbody tr th {\n        vertical-align: top;\n    }\n\n    .dataframe thead th {\n        text-align: right;\n    }\n</style>\n<table border=\"1\" class=\"dataframe\">\n  <thead>\n    <tr style=\"text-align: right;\">\n      <th></th>\n      <th>Borough</th>\n      <th>Postalcode</th>\n      <th>Neighborhood</th>\n    </tr>\n  </thead>\n  <tbody>\n    <tr>\n      <th>0</th>\n      <td>Central Toronto</td>\n      <td>M4N</td>\n      <td>Lawrence Park</td>\n    </tr>\n    <tr>\n      <th>1</th>\n      <td>Central Toronto</td>\n      <td>M4P</td>\n      <td>Davisville North</td>\n    </tr>\n    <tr>\n      <th>2</th>\n      <td>Central Toronto</td>\n      <td>M4R</td>\n      <td>North Toronto West, Lawrence Park</td>\n    </tr>\n    <tr>\n      <th>3</th>\n      <td>Central Toronto</td>\n      <td>M4S</td>\n      <td>Davisville</td>\n    </tr>\n    <tr>\n      <th>4</th>\n      <td>Central Toronto</td>\n      <td>M4T</td>\n      <td>Moore Park, Summerhill East</td>\n    </tr>\n  </tbody>\n</table>\n</div>"
                    },
                    "metadata": {},
                    "execution_count": 5
                }
            ],
            "source": [
                "CanadaPOdf = CanadaPOdf.groupby(['Borough', 'Postalcode'])['Neighborhood'].apply(list).apply(lambda x:', '.join(x)).to_frame().reset_index()\n",
                "CanadaPOdf.head()"
            ]
        },
        {
            "source": [
                "I'm renaming the columns to match the existing dataframe  "
            ],
            "cell_type": "markdown",
            "metadata": {}
        },
        {
            "execution_count": 6,
            "cell_type": "code",
            "metadata": {},
            "outputs": [
                {
                    "output_type": "execute_result",
                    "data": {
                        "text/plain": "  Postalcode   Latitude  Longitude\n0        M1B  43.806686 -79.194353\n1        M1C  43.784535 -79.160497\n2        M1E  43.763573 -79.188711\n3        M1G  43.770992 -79.216917\n4        M1H  43.773136 -79.239476",
                        "text/html": "<div>\n<style scoped>\n    .dataframe tbody tr th:only-of-type {\n        vertical-align: middle;\n    }\n\n    .dataframe tbody tr th {\n        vertical-align: top;\n    }\n\n    .dataframe thead th {\n        text-align: right;\n    }\n</style>\n<table border=\"1\" class=\"dataframe\">\n  <thead>\n    <tr style=\"text-align: right;\">\n      <th></th>\n      <th>Postalcode</th>\n      <th>Latitude</th>\n      <th>Longitude</th>\n    </tr>\n  </thead>\n  <tbody>\n    <tr>\n      <th>0</th>\n      <td>M1B</td>\n      <td>43.806686</td>\n      <td>-79.194353</td>\n    </tr>\n    <tr>\n      <th>1</th>\n      <td>M1C</td>\n      <td>43.784535</td>\n      <td>-79.160497</td>\n    </tr>\n    <tr>\n      <th>2</th>\n      <td>M1E</td>\n      <td>43.763573</td>\n      <td>-79.188711</td>\n    </tr>\n    <tr>\n      <th>3</th>\n      <td>M1G</td>\n      <td>43.770992</td>\n      <td>-79.216917</td>\n    </tr>\n    <tr>\n      <th>4</th>\n      <td>M1H</td>\n      <td>43.773136</td>\n      <td>-79.239476</td>\n    </tr>\n  </tbody>\n</table>\n</div>"
                    },
                    "metadata": {},
                    "execution_count": 6
                }
            ],
            "source": [
                "lat_long_df = lat_long_df.rename(columns={'Postal Code': 'Postalcode'})\n",
                "lat_long_df.head()"
            ]
        },
        {
            "source": [
                "After that I'm merging both the dataframe into one by matching on the postal code. "
            ],
            "cell_type": "markdown",
            "metadata": {}
        },
        {
            "execution_count": 7,
            "cell_type": "code",
            "metadata": {},
            "outputs": [
                {
                    "output_type": "execute_result",
                    "data": {
                        "text/plain": "           Borough Postalcode                       Neighborhood   Latitude  \\\n0  Central Toronto        M4N                      Lawrence Park  43.728020   \n1  Central Toronto        M4P                   Davisville North  43.712751   \n2  Central Toronto        M4R  North Toronto West, Lawrence Park  43.715383   \n3  Central Toronto        M4S                         Davisville  43.704324   \n4  Central Toronto        M4T        Moore Park, Summerhill East  43.689574   \n\n   Longitude  \n0 -79.388790  \n1 -79.390197  \n2 -79.405678  \n3 -79.388790  \n4 -79.383160  ",
                        "text/html": "<div>\n<style scoped>\n    .dataframe tbody tr th:only-of-type {\n        vertical-align: middle;\n    }\n\n    .dataframe tbody tr th {\n        vertical-align: top;\n    }\n\n    .dataframe thead th {\n        text-align: right;\n    }\n</style>\n<table border=\"1\" class=\"dataframe\">\n  <thead>\n    <tr style=\"text-align: right;\">\n      <th></th>\n      <th>Borough</th>\n      <th>Postalcode</th>\n      <th>Neighborhood</th>\n      <th>Latitude</th>\n      <th>Longitude</th>\n    </tr>\n  </thead>\n  <tbody>\n    <tr>\n      <th>0</th>\n      <td>Central Toronto</td>\n      <td>M4N</td>\n      <td>Lawrence Park</td>\n      <td>43.728020</td>\n      <td>-79.388790</td>\n    </tr>\n    <tr>\n      <th>1</th>\n      <td>Central Toronto</td>\n      <td>M4P</td>\n      <td>Davisville North</td>\n      <td>43.712751</td>\n      <td>-79.390197</td>\n    </tr>\n    <tr>\n      <th>2</th>\n      <td>Central Toronto</td>\n      <td>M4R</td>\n      <td>North Toronto West, Lawrence Park</td>\n      <td>43.715383</td>\n      <td>-79.405678</td>\n    </tr>\n    <tr>\n      <th>3</th>\n      <td>Central Toronto</td>\n      <td>M4S</td>\n      <td>Davisville</td>\n      <td>43.704324</td>\n      <td>-79.388790</td>\n    </tr>\n    <tr>\n      <th>4</th>\n      <td>Central Toronto</td>\n      <td>M4T</td>\n      <td>Moore Park, Summerhill East</td>\n      <td>43.689574</td>\n      <td>-79.383160</td>\n    </tr>\n  </tbody>\n</table>\n</div>"
                    },
                    "metadata": {},
                    "execution_count": 7
                }
            ],
            "source": [
                "toronto_DF = pd.merge(CanadaPOdf,lat_long_df, on='Postalcode')\n",
                "toronto_DF = toronto_DF.rename(columns={'Neighborhood':'Neighborhood'})\n",
                "toronto_DF.head()"
            ]
        },
        {
            "execution_count": 8,
            "cell_type": "code",
            "metadata": {},
            "outputs": [
                {
                    "output_type": "stream",
                    "name": "stdout",
                    "text": "The dataframe has 10 boroughs and 103 neighborhoods.\n"
                }
            ],
            "source": [
                "print('The dataframe has {} boroughs and {} neighborhoods.'.format(\n",
                "        len(toronto_DF['Borough'].unique()),\n",
                "        toronto_DF.shape[0]\n",
                "    )\n",
                ")"
            ]
        },
        {
            "source": [
                "<h4>c) Scrap the distribution of population from Wikipedia</h4>\n",
                "Another factor that can help us in deciding which neighborhood would be best option to open a restaurant is, the distribution of population based on the ethnic diversity for each neighborhood. As this helps us in identifying the neighborhoods which are densely populated with Indian crowd since that neighborhood would be an ideal place to open an Indian restaurant. \n",
                "\n",
                "Scraped the following Wikipedia page, “Demographics of Toronto” in order to obtain the data about the Toronto & the Neighborhoods in it. Compared to all the neighborhoods in Toronto below given neighborhoods only had considerable amount of Indian crowd. We are examing those neighborhood's population to identify the densely populated neighborhoods with Indian population."
            ],
            "cell_type": "markdown",
            "metadata": {}
        },
        {
            "execution_count": 9,
            "cell_type": "code",
            "metadata": {
                "scrolled": true
            },
            "outputs": [],
            "source": [
                "html = wp.page(\"Demographics of Toronto\").html().encode(\"UTF-8\")\n"
            ]
        },
        {
            "execution_count": 10,
            "cell_type": "code",
            "metadata": {},
            "outputs": [
                {
                    "output_type": "execute_result",
                    "data": {
                        "text/plain": "                     Riding  Population Ethnic Origin #1  \\\n0                Willowdale      117405          Chinese   \n1         Eglinton-Lawrence      112925         Canadian   \n2          Don Valley North      109060          Chinese   \n3  Humber River-Black Creek      107725          Italian   \n4               York Centre      103760         Filipino   \n5           Don Valley West      101790          English   \n6           Don Valley East       93170      East Indian   \n\n   Ethnic Origin 1 in % Ethnic Origin #2  Ethnic Origin 2 in %  \\\n0                  25.9          Iranian                  12.1   \n1                  14.7          English                  12.6   \n2                  32.4      East Indian                   7.3   \n3                  12.8      East Indian                   9.2   \n4                  17.0          Italian                  13.4   \n5                  19.2         Canadian                  15.1   \n6                  10.6         Canadian                  10.4   \n\n  Ethnic Origin #3  Ethnic Origin 3 in % Ethnic Origin #4  \\\n0           Korean                  10.6              NaN   \n1           Polish                  12.0         Filipino   \n2          Iranian                   7.3              NaN   \n3         Jamaican                   8.5       Vietnamese   \n4          Russian                   9.5         Canadian   \n5         Scottish                  14.9            Irish   \n6          English                  10.1          Chinese   \n\n   Ethnic Origin 4 in % Ethnic Origin #5  Ethnic Origin 5 in %  \\\n0                   NaN              NaN                   NaN   \n1                  11.0         Scottish                   9.7   \n2                   NaN              NaN                   NaN   \n3                   8.0         Canadian                   7.4   \n4                   8.6              NaN                   NaN   \n5                  14.2          Chinese                  11.2   \n6                   8.9            Irish                   8.1   \n\n  Ethnic Origin #6  Ethnic Origin 6 in % Ethnic Origin #7  \\\n0              NaN                   NaN              NaN   \n1          Italian                   9.5            Irish   \n2              NaN                   NaN              NaN   \n3              NaN                   NaN              NaN   \n4              NaN                   NaN              NaN   \n5              NaN                   NaN              NaN   \n6         Scottish                   8.0         Filipino   \n\n   Ethnic Origin 7 in % Ethnic Origin #8  Ethnic Origin 8 in %  \n0                   NaN              NaN                   NaN  \n1                   9.2          Russian                   8.4  \n2                   NaN              NaN                   NaN  \n3                   NaN              NaN                   NaN  \n4                   NaN              NaN                   NaN  \n5                   NaN              NaN                   NaN  \n6                   7.8              NaN                   NaN  ",
                        "text/html": "<div>\n<style scoped>\n    .dataframe tbody tr th:only-of-type {\n        vertical-align: middle;\n    }\n\n    .dataframe tbody tr th {\n        vertical-align: top;\n    }\n\n    .dataframe thead th {\n        text-align: right;\n    }\n</style>\n<table border=\"1\" class=\"dataframe\">\n  <thead>\n    <tr style=\"text-align: right;\">\n      <th></th>\n      <th>Riding</th>\n      <th>Population</th>\n      <th>Ethnic Origin #1</th>\n      <th>Ethnic Origin 1 in %</th>\n      <th>Ethnic Origin #2</th>\n      <th>Ethnic Origin 2 in %</th>\n      <th>Ethnic Origin #3</th>\n      <th>Ethnic Origin 3 in %</th>\n      <th>Ethnic Origin #4</th>\n      <th>Ethnic Origin 4 in %</th>\n      <th>Ethnic Origin #5</th>\n      <th>Ethnic Origin 5 in %</th>\n      <th>Ethnic Origin #6</th>\n      <th>Ethnic Origin 6 in %</th>\n      <th>Ethnic Origin #7</th>\n      <th>Ethnic Origin 7 in %</th>\n      <th>Ethnic Origin #8</th>\n      <th>Ethnic Origin 8 in %</th>\n    </tr>\n  </thead>\n  <tbody>\n    <tr>\n      <th>0</th>\n      <td>Willowdale</td>\n      <td>117405</td>\n      <td>Chinese</td>\n      <td>25.9</td>\n      <td>Iranian</td>\n      <td>12.1</td>\n      <td>Korean</td>\n      <td>10.6</td>\n      <td>NaN</td>\n      <td>NaN</td>\n      <td>NaN</td>\n      <td>NaN</td>\n      <td>NaN</td>\n      <td>NaN</td>\n      <td>NaN</td>\n      <td>NaN</td>\n      <td>NaN</td>\n      <td>NaN</td>\n    </tr>\n    <tr>\n      <th>1</th>\n      <td>Eglinton-Lawrence</td>\n      <td>112925</td>\n      <td>Canadian</td>\n      <td>14.7</td>\n      <td>English</td>\n      <td>12.6</td>\n      <td>Polish</td>\n      <td>12.0</td>\n      <td>Filipino</td>\n      <td>11.0</td>\n      <td>Scottish</td>\n      <td>9.7</td>\n      <td>Italian</td>\n      <td>9.5</td>\n      <td>Irish</td>\n      <td>9.2</td>\n      <td>Russian</td>\n      <td>8.4</td>\n    </tr>\n    <tr>\n      <th>2</th>\n      <td>Don Valley North</td>\n      <td>109060</td>\n      <td>Chinese</td>\n      <td>32.4</td>\n      <td>East Indian</td>\n      <td>7.3</td>\n      <td>Iranian</td>\n      <td>7.3</td>\n      <td>NaN</td>\n      <td>NaN</td>\n      <td>NaN</td>\n      <td>NaN</td>\n      <td>NaN</td>\n      <td>NaN</td>\n      <td>NaN</td>\n      <td>NaN</td>\n      <td>NaN</td>\n      <td>NaN</td>\n    </tr>\n    <tr>\n      <th>3</th>\n      <td>Humber River-Black Creek</td>\n      <td>107725</td>\n      <td>Italian</td>\n      <td>12.8</td>\n      <td>East Indian</td>\n      <td>9.2</td>\n      <td>Jamaican</td>\n      <td>8.5</td>\n      <td>Vietnamese</td>\n      <td>8.0</td>\n      <td>Canadian</td>\n      <td>7.4</td>\n      <td>NaN</td>\n      <td>NaN</td>\n      <td>NaN</td>\n      <td>NaN</td>\n      <td>NaN</td>\n      <td>NaN</td>\n    </tr>\n    <tr>\n      <th>4</th>\n      <td>York Centre</td>\n      <td>103760</td>\n      <td>Filipino</td>\n      <td>17.0</td>\n      <td>Italian</td>\n      <td>13.4</td>\n      <td>Russian</td>\n      <td>9.5</td>\n      <td>Canadian</td>\n      <td>8.6</td>\n      <td>NaN</td>\n      <td>NaN</td>\n      <td>NaN</td>\n      <td>NaN</td>\n      <td>NaN</td>\n      <td>NaN</td>\n      <td>NaN</td>\n      <td>NaN</td>\n    </tr>\n    <tr>\n      <th>5</th>\n      <td>Don Valley West</td>\n      <td>101790</td>\n      <td>English</td>\n      <td>19.2</td>\n      <td>Canadian</td>\n      <td>15.1</td>\n      <td>Scottish</td>\n      <td>14.9</td>\n      <td>Irish</td>\n      <td>14.2</td>\n      <td>Chinese</td>\n      <td>11.2</td>\n      <td>NaN</td>\n      <td>NaN</td>\n      <td>NaN</td>\n      <td>NaN</td>\n      <td>NaN</td>\n      <td>NaN</td>\n    </tr>\n    <tr>\n      <th>6</th>\n      <td>Don Valley East</td>\n      <td>93170</td>\n      <td>East Indian</td>\n      <td>10.6</td>\n      <td>Canadian</td>\n      <td>10.4</td>\n      <td>English</td>\n      <td>10.1</td>\n      <td>Chinese</td>\n      <td>8.9</td>\n      <td>Irish</td>\n      <td>8.1</td>\n      <td>Scottish</td>\n      <td>8.0</td>\n      <td>Filipino</td>\n      <td>7.8</td>\n      <td>NaN</td>\n      <td>NaN</td>\n    </tr>\n  </tbody>\n</table>\n</div>"
                    },
                    "metadata": {},
                    "execution_count": 10
                }
            ],
            "source": [
                "#TORONTO & EAST YORK population distribution by ethnicity \n",
                "TEY_population_df = pd.read_html(html, header = 0)[13]\n",
                "TEY_population_df = TEY_population_df.rename(columns={'%':'Ethnic Origin 1 in %', \n",
                "                                                      '%.1':'Ethnic Origin 2 in %',\n",
                "                                                     '%.2':'Ethnic Origin 3 in %',\n",
                "                                                     '%.3':'Ethnic Origin 4 in %',\n",
                "                                                     '%.4':'Ethnic Origin 5 in %',\n",
                "                                                     '%.5':'Ethnic Origin 6 in %',\n",
                "                                                     '%.6':'Ethnic Origin 7 in %',\n",
                "                                                     '%.7':'Ethnic Origin 8 in %',\n",
                "                                                     '%.8':'Ethnic Origin 9 in %'})\n",
                "TEY_population_df"
            ]
        },
        {
            "execution_count": 11,
            "cell_type": "code",
            "metadata": {},
            "outputs": [
                {
                    "output_type": "execute_result",
                    "data": {
                        "text/plain": "                   Riding  Population Ethnic Origin #1  Ethnic Origin 1 in %  \\\n0      Scarborough Centre      110450         Filipino                  13.1   \n1   Scarborough Southwest      108295         Canadian                  16.2   \n2   Scarborough-Agincourt      104225          Chinese                  47.0   \n3  Scarborough-Rouge Park      101445      East Indian                  16.7   \n4   Scarborough-Guildwood      101115      East Indian                  18.0   \n5       Scarborough North       97610          Chinese                  46.6   \n\n  Ethnic Origin #2  Ethnic Origin 2 in % Ethnic Origin #3  \\\n0      East Indian                  12.2         Canadian   \n1          English                  14.3            Irish   \n2      East Indian                   7.4              NaN   \n3         Canadian                  11.8       Sri Lankan   \n4         Canadian                  11.6          English   \n5      East Indian                  11.8       Sri Lankan   \n\n   Ethnic Origin 3 in % Ethnic Origin #4  Ethnic Origin 4 in %  \\\n0                  11.2          Chinese                  10.7   \n1                  11.5         Scottish                  10.9   \n2                   NaN              NaN                   NaN   \n3                  11.1          English                   9.8   \n4                   9.7         Filipino                   8.5   \n5                   9.4              NaN                   NaN   \n\n  Ethnic Origin #5  Ethnic Origin 5 in % Ethnic Origin #6  \\\n0          English                   7.8       Sri Lankan   \n1         Filipino                   9.5      East Indian   \n2              NaN                   NaN              NaN   \n3         Filipino                   9.3         Jamaican   \n4       Sri Lankan                   7.8          Chinese   \n5              NaN                   NaN              NaN   \n\n   Ethnic Origin 6 in % Ethnic Origin #7  Ethnic Origin 7 in %  \\\n0                   7.0              NaN                   NaN   \n1                   8.2          Chinese                   7.2   \n2                   NaN              NaN                   NaN   \n3                   8.4         Scottish                   7.2   \n4                   7.1         Scottish                   7.0   \n5                   NaN              NaN                   NaN   \n\n  Ethnic Origin #8  Ethnic Origin 8 in %  \n0              NaN                   NaN  \n1              NaN                   NaN  \n2              NaN                   NaN  \n3            Irish                   7.0  \n4              NaN                   NaN  \n5              NaN                   NaN  ",
                        "text/html": "<div>\n<style scoped>\n    .dataframe tbody tr th:only-of-type {\n        vertical-align: middle;\n    }\n\n    .dataframe tbody tr th {\n        vertical-align: top;\n    }\n\n    .dataframe thead th {\n        text-align: right;\n    }\n</style>\n<table border=\"1\" class=\"dataframe\">\n  <thead>\n    <tr style=\"text-align: right;\">\n      <th></th>\n      <th>Riding</th>\n      <th>Population</th>\n      <th>Ethnic Origin #1</th>\n      <th>Ethnic Origin 1 in %</th>\n      <th>Ethnic Origin #2</th>\n      <th>Ethnic Origin 2 in %</th>\n      <th>Ethnic Origin #3</th>\n      <th>Ethnic Origin 3 in %</th>\n      <th>Ethnic Origin #4</th>\n      <th>Ethnic Origin 4 in %</th>\n      <th>Ethnic Origin #5</th>\n      <th>Ethnic Origin 5 in %</th>\n      <th>Ethnic Origin #6</th>\n      <th>Ethnic Origin 6 in %</th>\n      <th>Ethnic Origin #7</th>\n      <th>Ethnic Origin 7 in %</th>\n      <th>Ethnic Origin #8</th>\n      <th>Ethnic Origin 8 in %</th>\n    </tr>\n  </thead>\n  <tbody>\n    <tr>\n      <th>0</th>\n      <td>Scarborough Centre</td>\n      <td>110450</td>\n      <td>Filipino</td>\n      <td>13.1</td>\n      <td>East Indian</td>\n      <td>12.2</td>\n      <td>Canadian</td>\n      <td>11.2</td>\n      <td>Chinese</td>\n      <td>10.7</td>\n      <td>English</td>\n      <td>7.8</td>\n      <td>Sri Lankan</td>\n      <td>7.0</td>\n      <td>NaN</td>\n      <td>NaN</td>\n      <td>NaN</td>\n      <td>NaN</td>\n    </tr>\n    <tr>\n      <th>1</th>\n      <td>Scarborough Southwest</td>\n      <td>108295</td>\n      <td>Canadian</td>\n      <td>16.2</td>\n      <td>English</td>\n      <td>14.3</td>\n      <td>Irish</td>\n      <td>11.5</td>\n      <td>Scottish</td>\n      <td>10.9</td>\n      <td>Filipino</td>\n      <td>9.5</td>\n      <td>East Indian</td>\n      <td>8.2</td>\n      <td>Chinese</td>\n      <td>7.2</td>\n      <td>NaN</td>\n      <td>NaN</td>\n    </tr>\n    <tr>\n      <th>2</th>\n      <td>Scarborough-Agincourt</td>\n      <td>104225</td>\n      <td>Chinese</td>\n      <td>47.0</td>\n      <td>East Indian</td>\n      <td>7.4</td>\n      <td>NaN</td>\n      <td>NaN</td>\n      <td>NaN</td>\n      <td>NaN</td>\n      <td>NaN</td>\n      <td>NaN</td>\n      <td>NaN</td>\n      <td>NaN</td>\n      <td>NaN</td>\n      <td>NaN</td>\n      <td>NaN</td>\n      <td>NaN</td>\n    </tr>\n    <tr>\n      <th>3</th>\n      <td>Scarborough-Rouge Park</td>\n      <td>101445</td>\n      <td>East Indian</td>\n      <td>16.7</td>\n      <td>Canadian</td>\n      <td>11.8</td>\n      <td>Sri Lankan</td>\n      <td>11.1</td>\n      <td>English</td>\n      <td>9.8</td>\n      <td>Filipino</td>\n      <td>9.3</td>\n      <td>Jamaican</td>\n      <td>8.4</td>\n      <td>Scottish</td>\n      <td>7.2</td>\n      <td>Irish</td>\n      <td>7.0</td>\n    </tr>\n    <tr>\n      <th>4</th>\n      <td>Scarborough-Guildwood</td>\n      <td>101115</td>\n      <td>East Indian</td>\n      <td>18.0</td>\n      <td>Canadian</td>\n      <td>11.6</td>\n      <td>English</td>\n      <td>9.7</td>\n      <td>Filipino</td>\n      <td>8.5</td>\n      <td>Sri Lankan</td>\n      <td>7.8</td>\n      <td>Chinese</td>\n      <td>7.1</td>\n      <td>Scottish</td>\n      <td>7.0</td>\n      <td>NaN</td>\n      <td>NaN</td>\n    </tr>\n    <tr>\n      <th>5</th>\n      <td>Scarborough North</td>\n      <td>97610</td>\n      <td>Chinese</td>\n      <td>46.6</td>\n      <td>East Indian</td>\n      <td>11.8</td>\n      <td>Sri Lankan</td>\n      <td>9.4</td>\n      <td>NaN</td>\n      <td>NaN</td>\n      <td>NaN</td>\n      <td>NaN</td>\n      <td>NaN</td>\n      <td>NaN</td>\n      <td>NaN</td>\n      <td>NaN</td>\n      <td>NaN</td>\n      <td>NaN</td>\n    </tr>\n  </tbody>\n</table>\n</div>"
                    },
                    "metadata": {},
                    "execution_count": 11
                }
            ],
            "source": [
                "#NORTH YORK population distribution by ethnicity \n",
                "North_population_df = pd.read_html(html, header = 0)[14]\n",
                "North_population_df = North_population_df.rename(columns={'%':'Ethnic Origin 1 in %', \n",
                "                                                      '%.1':'Ethnic Origin 2 in %',\n",
                "                                                     '%.2':'Ethnic Origin 3 in %',\n",
                "                                                     '%.3':'Ethnic Origin 4 in %',\n",
                "                                                     '%.4':'Ethnic Origin 5 in %',\n",
                "                                                     '%.5':'Ethnic Origin 6 in %',\n",
                "                                                     '%.6':'Ethnic Origin 7 in %',\n",
                "                                                     '%.7':'Ethnic Origin 8 in %'})\n",
                "North_population_df"
            ]
        },
        {
            "execution_count": 12,
            "cell_type": "code",
            "metadata": {},
            "outputs": [
                {
                    "output_type": "execute_result",
                    "data": {
                        "text/plain": "                Riding  Population Ethnic Origin #1  Ethnic Origin 1 in %  \\\n0  Etobicoke-Lakeshore      127520          English                  17.1   \n1      Etobicoke North      116960      East Indian                  22.2   \n2     Etobicoke Centre      116055          Italian                  15.1   \n3    York South-Weston      115130       Portuguese                  14.5   \n\n  Ethnic Origin #2  Ethnic Origin 2 in % Ethnic Origin #3  \\\n0         Canadian                  15.9            Irish   \n1         Canadian                   7.9              NaN   \n2          English                  14.3         Canadian   \n3          Italian                  12.8         Canadian   \n\n   Ethnic Origin 3 in % Ethnic Origin #4  Ethnic Origin 4 in %  \\\n0                  14.4         Scottish                  13.5   \n1                   NaN              NaN                   NaN   \n2                  12.1            Irish                  10.8   \n3                   8.7         Jamaican                   8.4   \n\n  Ethnic Origin #5  Ethnic Origin 5 in % Ethnic Origin #6  \\\n0           Polish                   9.2          Italian   \n1              NaN                   NaN              NaN   \n2         Scottish                  10.4        Ukrainian   \n3              NaN                   NaN              NaN   \n\n   Ethnic Origin 6 in % Ethnic Origin #7  Ethnic Origin 7 in %  \\\n0                   9.1        Ukrainian                   7.6   \n1                   NaN              NaN                   NaN   \n2                   8.1           Polish                   7.4   \n3                   NaN              NaN                   NaN   \n\n  Ethnic Origin #8  Ethnic Origin 8 in %  \n0           German                   7.1  \n1              NaN                   NaN  \n2              NaN                   NaN  \n3              NaN                   NaN  ",
                        "text/html": "<div>\n<style scoped>\n    .dataframe tbody tr th:only-of-type {\n        vertical-align: middle;\n    }\n\n    .dataframe tbody tr th {\n        vertical-align: top;\n    }\n\n    .dataframe thead th {\n        text-align: right;\n    }\n</style>\n<table border=\"1\" class=\"dataframe\">\n  <thead>\n    <tr style=\"text-align: right;\">\n      <th></th>\n      <th>Riding</th>\n      <th>Population</th>\n      <th>Ethnic Origin #1</th>\n      <th>Ethnic Origin 1 in %</th>\n      <th>Ethnic Origin #2</th>\n      <th>Ethnic Origin 2 in %</th>\n      <th>Ethnic Origin #3</th>\n      <th>Ethnic Origin 3 in %</th>\n      <th>Ethnic Origin #4</th>\n      <th>Ethnic Origin 4 in %</th>\n      <th>Ethnic Origin #5</th>\n      <th>Ethnic Origin 5 in %</th>\n      <th>Ethnic Origin #6</th>\n      <th>Ethnic Origin 6 in %</th>\n      <th>Ethnic Origin #7</th>\n      <th>Ethnic Origin 7 in %</th>\n      <th>Ethnic Origin #8</th>\n      <th>Ethnic Origin 8 in %</th>\n    </tr>\n  </thead>\n  <tbody>\n    <tr>\n      <th>0</th>\n      <td>Etobicoke-Lakeshore</td>\n      <td>127520</td>\n      <td>English</td>\n      <td>17.1</td>\n      <td>Canadian</td>\n      <td>15.9</td>\n      <td>Irish</td>\n      <td>14.4</td>\n      <td>Scottish</td>\n      <td>13.5</td>\n      <td>Polish</td>\n      <td>9.2</td>\n      <td>Italian</td>\n      <td>9.1</td>\n      <td>Ukrainian</td>\n      <td>7.6</td>\n      <td>German</td>\n      <td>7.1</td>\n    </tr>\n    <tr>\n      <th>1</th>\n      <td>Etobicoke North</td>\n      <td>116960</td>\n      <td>East Indian</td>\n      <td>22.2</td>\n      <td>Canadian</td>\n      <td>7.9</td>\n      <td>NaN</td>\n      <td>NaN</td>\n      <td>NaN</td>\n      <td>NaN</td>\n      <td>NaN</td>\n      <td>NaN</td>\n      <td>NaN</td>\n      <td>NaN</td>\n      <td>NaN</td>\n      <td>NaN</td>\n      <td>NaN</td>\n      <td>NaN</td>\n    </tr>\n    <tr>\n      <th>2</th>\n      <td>Etobicoke Centre</td>\n      <td>116055</td>\n      <td>Italian</td>\n      <td>15.1</td>\n      <td>English</td>\n      <td>14.3</td>\n      <td>Canadian</td>\n      <td>12.1</td>\n      <td>Irish</td>\n      <td>10.8</td>\n      <td>Scottish</td>\n      <td>10.4</td>\n      <td>Ukrainian</td>\n      <td>8.1</td>\n      <td>Polish</td>\n      <td>7.4</td>\n      <td>NaN</td>\n      <td>NaN</td>\n    </tr>\n    <tr>\n      <th>3</th>\n      <td>York South-Weston</td>\n      <td>115130</td>\n      <td>Portuguese</td>\n      <td>14.5</td>\n      <td>Italian</td>\n      <td>12.8</td>\n      <td>Canadian</td>\n      <td>8.7</td>\n      <td>Jamaican</td>\n      <td>8.4</td>\n      <td>NaN</td>\n      <td>NaN</td>\n      <td>NaN</td>\n      <td>NaN</td>\n      <td>NaN</td>\n      <td>NaN</td>\n      <td>NaN</td>\n      <td>NaN</td>\n    </tr>\n  </tbody>\n</table>\n</div>"
                    },
                    "metadata": {},
                    "execution_count": 12
                }
            ],
            "source": [
                "#SCARBOROUGH population distribution by ethnicity \n",
                "Scar_population_df = pd.read_html(html, header = 0)[15]\n",
                "Scar_population_df = Scar_population_df.rename(columns={'%':'Ethnic Origin 1 in %', \n",
                "                                                      '%.1':'Ethnic Origin 2 in %',\n",
                "                                                     '%.2':'Ethnic Origin 3 in %',\n",
                "                                                     '%.3':'Ethnic Origin 4 in %',\n",
                "                                                     '%.4':'Ethnic Origin 5 in %',\n",
                "                                                     '%.5':'Ethnic Origin 6 in %',\n",
                "                                                     '%.6':'Ethnic Origin 7 in %',\n",
                "                                                     '%.7':'Ethnic Origin 8 in %'})\n",
                "Scar_population_df"
            ]
        },
        {
            "execution_count": 13,
            "cell_type": "code",
            "metadata": {},
            "outputs": [
                {
                    "output_type": "execute_result",
                    "data": {
                        "text/plain": "   Ethnic groups in the Toronto CMA (2016)Source: Focus on Geography Series, 2016 Census; Toronto, (CMA) - Ontario  \\\n0                                        Ethnic group                                                                \n1                                        Ethnic group                                                                \n2                                        Ethnic group                                                                \n3                                        Ethnic group                                                                \n4                                        Ethnic group                                                                \n5                                        Ethnic group                                                                \n6                                        Ethnic group                                                                \n7                                        Ethnic group                                                                \n8                                        Ethnic group                                                                \n9                                        Ethnic group                                                                \n10                                       Ethnic group                                                                \n11                                       Ethnic group                                                                \n12                                       Ethnic group                                                                \n13                                                NaN                                                                \n14                                   Total population                                                                \n\n   Ethnic groups in the Toronto CMA (2016)Source: Focus on Geography Series, 2016 Census; Toronto, (CMA) - Ontario.1  \\\n0                                               White                                                                  \n1                                         South Asian                                                                  \n2                                             Chinese                                                                  \n3                                               Black                                                                  \n4                                            Filipino                                                                  \n5                                      Latin American                                                                  \n6                                          West Asian                                                                  \n7                                                Arab                                                                  \n8                                     Southeast Asian                                                                  \n9                                              Korean                                                                  \n10                                           Japanese                                                                  \n11                                Multiple minorities                                                                  \n12                                              Other                                                                  \n13                                         Aboriginal                                                                  \n14                                   Total population                                                                  \n\n    Population  Ethnic Origin 1 in %  \n0      2804630                  47.8  \n1       973225                  16.6  \n2       631045                  10.8  \n3       442020                   7.5  \n4       254480                   4.3  \n5       132950                   2.3  \n6       123755                   2.1  \n7       105610                   1.8  \n8        83540                   1.4  \n9        69670                   1.2  \n10       20650                   0.4  \n11       97185                   1.7  \n12       77780                   1.3  \n13       46320                   0.8  \n14     5862850                   NaN  ",
                        "text/html": "<div>\n<style scoped>\n    .dataframe tbody tr th:only-of-type {\n        vertical-align: middle;\n    }\n\n    .dataframe tbody tr th {\n        vertical-align: top;\n    }\n\n    .dataframe thead th {\n        text-align: right;\n    }\n</style>\n<table border=\"1\" class=\"dataframe\">\n  <thead>\n    <tr style=\"text-align: right;\">\n      <th></th>\n      <th>Ethnic groups in the Toronto CMA (2016)Source: Focus on Geography Series, 2016 Census; Toronto, (CMA) - Ontario</th>\n      <th>Ethnic groups in the Toronto CMA (2016)Source: Focus on Geography Series, 2016 Census; Toronto, (CMA) - Ontario.1</th>\n      <th>Population</th>\n      <th>Ethnic Origin 1 in %</th>\n    </tr>\n  </thead>\n  <tbody>\n    <tr>\n      <th>0</th>\n      <td>Ethnic group</td>\n      <td>White</td>\n      <td>2804630</td>\n      <td>47.8</td>\n    </tr>\n    <tr>\n      <th>1</th>\n      <td>Ethnic group</td>\n      <td>South Asian</td>\n      <td>973225</td>\n      <td>16.6</td>\n    </tr>\n    <tr>\n      <th>2</th>\n      <td>Ethnic group</td>\n      <td>Chinese</td>\n      <td>631045</td>\n      <td>10.8</td>\n    </tr>\n    <tr>\n      <th>3</th>\n      <td>Ethnic group</td>\n      <td>Black</td>\n      <td>442020</td>\n      <td>7.5</td>\n    </tr>\n    <tr>\n      <th>4</th>\n      <td>Ethnic group</td>\n      <td>Filipino</td>\n      <td>254480</td>\n      <td>4.3</td>\n    </tr>\n    <tr>\n      <th>5</th>\n      <td>Ethnic group</td>\n      <td>Latin American</td>\n      <td>132950</td>\n      <td>2.3</td>\n    </tr>\n    <tr>\n      <th>6</th>\n      <td>Ethnic group</td>\n      <td>West Asian</td>\n      <td>123755</td>\n      <td>2.1</td>\n    </tr>\n    <tr>\n      <th>7</th>\n      <td>Ethnic group</td>\n      <td>Arab</td>\n      <td>105610</td>\n      <td>1.8</td>\n    </tr>\n    <tr>\n      <th>8</th>\n      <td>Ethnic group</td>\n      <td>Southeast Asian</td>\n      <td>83540</td>\n      <td>1.4</td>\n    </tr>\n    <tr>\n      <th>9</th>\n      <td>Ethnic group</td>\n      <td>Korean</td>\n      <td>69670</td>\n      <td>1.2</td>\n    </tr>\n    <tr>\n      <th>10</th>\n      <td>Ethnic group</td>\n      <td>Japanese</td>\n      <td>20650</td>\n      <td>0.4</td>\n    </tr>\n    <tr>\n      <th>11</th>\n      <td>Ethnic group</td>\n      <td>Multiple minorities</td>\n      <td>97185</td>\n      <td>1.7</td>\n    </tr>\n    <tr>\n      <th>12</th>\n      <td>Ethnic group</td>\n      <td>Other</td>\n      <td>77780</td>\n      <td>1.3</td>\n    </tr>\n    <tr>\n      <th>13</th>\n      <td>NaN</td>\n      <td>Aboriginal</td>\n      <td>46320</td>\n      <td>0.8</td>\n    </tr>\n    <tr>\n      <th>14</th>\n      <td>Total population</td>\n      <td>Total population</td>\n      <td>5862850</td>\n      <td>NaN</td>\n    </tr>\n  </tbody>\n</table>\n</div>"
                    },
                    "metadata": {},
                    "execution_count": 13
                }
            ],
            "source": [
                "#ETOBICOKE & YORK population distribution by ethnicity \n",
                "ETY_population_df = pd.read_html(html, header = 0)[16]\n",
                "ETY_population_df = ETY_population_df.rename(columns={'%':'Ethnic Origin 1 in %', \n",
                "                                                      '%.1':'Ethnic Origin 2 in %',\n",
                "                                                     '%.2':'Ethnic Origin 3 in %',\n",
                "                                                     '%.3':'Ethnic Origin 4 in %',\n",
                "                                                     '%.4':'Ethnic Origin 5 in %',\n",
                "                                                     '%.5':'Ethnic Origin 6 in %',\n",
                "                                                     '%.6':'Ethnic Origin 7 in %',\n",
                "                                                     '%.7':'Ethnic Origin 8 in %'})\n",
                "ETY_population_df\n",
                "\n"
            ]
        },
        {
            "cell_type": "code",
            "execution_count": 36,
            "metadata": {},
            "outputs": [
                {
                    "output_type": "execute_result",
                    "data": {
                        "text/plain": "       Riding  Population Ethnic Origin #1  Ethnic Origin 1 in %  \\\n0  Willowdale      117405          Chinese                  25.9   \n\n  Ethnic Origin #2  Ethnic Origin 2 in % Ethnic Origin #3  \\\n0          Iranian                  12.1           Korean   \n\n   Ethnic Origin 3 in % Ethnic Origin #4  Ethnic Origin 4 in %  \\\n0                  10.6              NaN                   NaN   \n\n  Ethnic Origin #5  Ethnic Origin 5 in % Ethnic Origin #6  \\\n0              NaN                   NaN              NaN   \n\n   Ethnic Origin 6 in % Ethnic Origin #7  Ethnic Origin 7 in %  \\\n0                   NaN              NaN                   NaN   \n\n  Ethnic Origin #8  Ethnic Origin 8 in %  \n0              NaN                   NaN  ",
                        "text/html": "<div>\n<style scoped>\n    .dataframe tbody tr th:only-of-type {\n        vertical-align: middle;\n    }\n\n    .dataframe tbody tr th {\n        vertical-align: top;\n    }\n\n    .dataframe thead th {\n        text-align: right;\n    }\n</style>\n<table border=\"1\" class=\"dataframe\">\n  <thead>\n    <tr style=\"text-align: right;\">\n      <th></th>\n      <th>Riding</th>\n      <th>Population</th>\n      <th>Ethnic Origin #1</th>\n      <th>Ethnic Origin 1 in %</th>\n      <th>Ethnic Origin #2</th>\n      <th>Ethnic Origin 2 in %</th>\n      <th>Ethnic Origin #3</th>\n      <th>Ethnic Origin 3 in %</th>\n      <th>Ethnic Origin #4</th>\n      <th>Ethnic Origin 4 in %</th>\n      <th>Ethnic Origin #5</th>\n      <th>Ethnic Origin 5 in %</th>\n      <th>Ethnic Origin #6</th>\n      <th>Ethnic Origin 6 in %</th>\n      <th>Ethnic Origin #7</th>\n      <th>Ethnic Origin 7 in %</th>\n      <th>Ethnic Origin #8</th>\n      <th>Ethnic Origin 8 in %</th>\n    </tr>\n  </thead>\n  <tbody>\n    <tr>\n      <th>0</th>\n      <td>Willowdale</td>\n      <td>117405</td>\n      <td>Chinese</td>\n      <td>25.9</td>\n      <td>Iranian</td>\n      <td>12.1</td>\n      <td>Korean</td>\n      <td>10.6</td>\n      <td>NaN</td>\n      <td>NaN</td>\n      <td>NaN</td>\n      <td>NaN</td>\n      <td>NaN</td>\n      <td>NaN</td>\n      <td>NaN</td>\n      <td>NaN</td>\n      <td>NaN</td>\n      <td>NaN</td>\n    </tr>\n  </tbody>\n</table>\n</div>"
                    },
                    "metadata": {},
                    "execution_count": 36
                }
            ],
            "source": [
                "TEY_population_df.head(1)\n"
            ]
        },
        {
            "cell_type": "code",
            "execution_count": 37,
            "metadata": {},
            "outputs": [
                {
                    "output_type": "execute_result",
                    "data": {
                        "text/plain": "               Riding  Population Ethnic Origin #1  Ethnic Origin 1 in %  \\\n0  Scarborough Centre      110450         Filipino                  13.1   \n\n  Ethnic Origin #2  Ethnic Origin 2 in % Ethnic Origin #3  \\\n0      East Indian                  12.2         Canadian   \n\n   Ethnic Origin 3 in % Ethnic Origin #4  Ethnic Origin 4 in %  \\\n0                  11.2          Chinese                  10.7   \n\n  Ethnic Origin #5  Ethnic Origin 5 in % Ethnic Origin #6  \\\n0          English                   7.8       Sri Lankan   \n\n   Ethnic Origin 6 in % Ethnic Origin #7  Ethnic Origin 7 in %  \\\n0                   7.0              NaN                   NaN   \n\n  Ethnic Origin #8  Ethnic Origin 8 in %  \n0              NaN                   NaN  ",
                        "text/html": "<div>\n<style scoped>\n    .dataframe tbody tr th:only-of-type {\n        vertical-align: middle;\n    }\n\n    .dataframe tbody tr th {\n        vertical-align: top;\n    }\n\n    .dataframe thead th {\n        text-align: right;\n    }\n</style>\n<table border=\"1\" class=\"dataframe\">\n  <thead>\n    <tr style=\"text-align: right;\">\n      <th></th>\n      <th>Riding</th>\n      <th>Population</th>\n      <th>Ethnic Origin #1</th>\n      <th>Ethnic Origin 1 in %</th>\n      <th>Ethnic Origin #2</th>\n      <th>Ethnic Origin 2 in %</th>\n      <th>Ethnic Origin #3</th>\n      <th>Ethnic Origin 3 in %</th>\n      <th>Ethnic Origin #4</th>\n      <th>Ethnic Origin 4 in %</th>\n      <th>Ethnic Origin #5</th>\n      <th>Ethnic Origin 5 in %</th>\n      <th>Ethnic Origin #6</th>\n      <th>Ethnic Origin 6 in %</th>\n      <th>Ethnic Origin #7</th>\n      <th>Ethnic Origin 7 in %</th>\n      <th>Ethnic Origin #8</th>\n      <th>Ethnic Origin 8 in %</th>\n    </tr>\n  </thead>\n  <tbody>\n    <tr>\n      <th>0</th>\n      <td>Scarborough Centre</td>\n      <td>110450</td>\n      <td>Filipino</td>\n      <td>13.1</td>\n      <td>East Indian</td>\n      <td>12.2</td>\n      <td>Canadian</td>\n      <td>11.2</td>\n      <td>Chinese</td>\n      <td>10.7</td>\n      <td>English</td>\n      <td>7.8</td>\n      <td>Sri Lankan</td>\n      <td>7.0</td>\n      <td>NaN</td>\n      <td>NaN</td>\n      <td>NaN</td>\n      <td>NaN</td>\n    </tr>\n  </tbody>\n</table>\n</div>"
                    },
                    "metadata": {},
                    "execution_count": 37
                }
            ],
            "source": [
                "North_population_df.head(1)"
            ]
        },
        {
            "cell_type": "code",
            "execution_count": 38,
            "metadata": {},
            "outputs": [
                {
                    "output_type": "execute_result",
                    "data": {
                        "text/plain": "                Riding  Population Ethnic Origin #1  Ethnic Origin 1 in %  \\\n0  Etobicoke-Lakeshore      127520          English                  17.1   \n\n  Ethnic Origin #2  Ethnic Origin 2 in % Ethnic Origin #3  \\\n0         Canadian                  15.9            Irish   \n\n   Ethnic Origin 3 in % Ethnic Origin #4  Ethnic Origin 4 in %  \\\n0                  14.4         Scottish                  13.5   \n\n  Ethnic Origin #5  Ethnic Origin 5 in % Ethnic Origin #6  \\\n0           Polish                   9.2          Italian   \n\n   Ethnic Origin 6 in % Ethnic Origin #7  Ethnic Origin 7 in %  \\\n0                   9.1        Ukrainian                   7.6   \n\n  Ethnic Origin #8  Ethnic Origin 8 in %  \n0           German                   7.1  ",
                        "text/html": "<div>\n<style scoped>\n    .dataframe tbody tr th:only-of-type {\n        vertical-align: middle;\n    }\n\n    .dataframe tbody tr th {\n        vertical-align: top;\n    }\n\n    .dataframe thead th {\n        text-align: right;\n    }\n</style>\n<table border=\"1\" class=\"dataframe\">\n  <thead>\n    <tr style=\"text-align: right;\">\n      <th></th>\n      <th>Riding</th>\n      <th>Population</th>\n      <th>Ethnic Origin #1</th>\n      <th>Ethnic Origin 1 in %</th>\n      <th>Ethnic Origin #2</th>\n      <th>Ethnic Origin 2 in %</th>\n      <th>Ethnic Origin #3</th>\n      <th>Ethnic Origin 3 in %</th>\n      <th>Ethnic Origin #4</th>\n      <th>Ethnic Origin 4 in %</th>\n      <th>Ethnic Origin #5</th>\n      <th>Ethnic Origin 5 in %</th>\n      <th>Ethnic Origin #6</th>\n      <th>Ethnic Origin 6 in %</th>\n      <th>Ethnic Origin #7</th>\n      <th>Ethnic Origin 7 in %</th>\n      <th>Ethnic Origin #8</th>\n      <th>Ethnic Origin 8 in %</th>\n    </tr>\n  </thead>\n  <tbody>\n    <tr>\n      <th>0</th>\n      <td>Etobicoke-Lakeshore</td>\n      <td>127520</td>\n      <td>English</td>\n      <td>17.1</td>\n      <td>Canadian</td>\n      <td>15.9</td>\n      <td>Irish</td>\n      <td>14.4</td>\n      <td>Scottish</td>\n      <td>13.5</td>\n      <td>Polish</td>\n      <td>9.2</td>\n      <td>Italian</td>\n      <td>9.1</td>\n      <td>Ukrainian</td>\n      <td>7.6</td>\n      <td>German</td>\n      <td>7.1</td>\n    </tr>\n  </tbody>\n</table>\n</div>"
                    },
                    "metadata": {},
                    "execution_count": 38
                }
            ],
            "source": [
                "Scar_population_df.head(1)"
            ]
        },
        {
            "cell_type": "code",
            "execution_count": 39,
            "metadata": {},
            "outputs": [
                {
                    "output_type": "execute_result",
                    "data": {
                        "text/plain": "  Ethnic groups in the Toronto CMA (2016)Source: Focus on Geography Series, 2016 Census; Toronto, (CMA) - Ontario  \\\n0                                       Ethnic group                                                                \n\n  Ethnic groups in the Toronto CMA (2016)Source: Focus on Geography Series, 2016 Census; Toronto, (CMA) - Ontario.1  \\\n0                                              White                                                                  \n\n   Population  Ethnic Origin 1 in %  \n0     2804630                  47.8  ",
                        "text/html": "<div>\n<style scoped>\n    .dataframe tbody tr th:only-of-type {\n        vertical-align: middle;\n    }\n\n    .dataframe tbody tr th {\n        vertical-align: top;\n    }\n\n    .dataframe thead th {\n        text-align: right;\n    }\n</style>\n<table border=\"1\" class=\"dataframe\">\n  <thead>\n    <tr style=\"text-align: right;\">\n      <th></th>\n      <th>Ethnic groups in the Toronto CMA (2016)Source: Focus on Geography Series, 2016 Census; Toronto, (CMA) - Ontario</th>\n      <th>Ethnic groups in the Toronto CMA (2016)Source: Focus on Geography Series, 2016 Census; Toronto, (CMA) - Ontario.1</th>\n      <th>Population</th>\n      <th>Ethnic Origin 1 in %</th>\n    </tr>\n  </thead>\n  <tbody>\n    <tr>\n      <th>0</th>\n      <td>Ethnic group</td>\n      <td>White</td>\n      <td>2804630</td>\n      <td>47.8</td>\n    </tr>\n  </tbody>\n</table>\n</div>"
                    },
                    "metadata": {},
                    "execution_count": 39
                }
            ],
            "source": [
                "ETY_population_df.head(1)"
            ]
        },
        {
            "source": [
                "<h4>d) Get location data using Foursquare</h4>\n",
                "Foursquare API is very usefule online application used my many developers & other application like Uber etc. In this project I have used it to retrieve informtion about the places present in the neighborhoods of Toronto. The API returns a JSON file and we need to turn that into a data-frame. Here I’ve chosen 100 popular spots for each neighborhood within a radius of 1km. "
            ],
            "cell_type": "markdown",
            "metadata": {}
        },
        {
            "execution_count": 14,
            "cell_type": "code",
            "metadata": {},
            "outputs": [],
            "source": [
                "#!conda install -c conda-forge geopy --yes \n",
                "from geopy.geocoders import Nominatim # convert an address into latitude and longitude values\n"
            ]
        },
        {
            "execution_count": 15,
            "cell_type": "code",
            "metadata": {},
            "outputs": [
                {
                    "output_type": "stream",
                    "name": "stdout",
                    "text": "The geograpical coordinate of Toronto are 43.6534817, -79.3839347.\n"
                }
            ],
            "source": [
                "#Use geopy library to get the latitude and longitude values of New York City.\n",
                "\n",
                "address = 'Toronto'\n",
                "\n",
                "geolocator = Nominatim(user_agent=\"ny_explorer\")\n",
                "location = geolocator.geocode(address)\n",
                "latitude = location.latitude\n",
                "longitude = location.longitude\n",
                "print('The geograpical coordinate of Toronto are {}, {}.'.format(latitude, longitude))"
            ]
        },
        {
            "execution_count": 16,
            "cell_type": "code",
            "metadata": {},
            "outputs": [],
            "source": [
                "#!conda install -c conda-forge folium=0.5.0 --yes\n",
                "import folium # map rendering library\n",
                "import requests"
            ]
        },
        {
            "cell_type": "code",
            "execution_count": 17,
            "metadata": {},
            "outputs": [],
            "source": [
                "CLIENT_ID = 'UTDQ4LGBHDJFK40GGRV5EZUUFFV4QBUNAAME34EGLA3ZTCWB'\n",
                "CLIENT_SECRET = 'G1HQS35NYI1S5RE5TWCM0BZ10WKIC1OGMZ324LOGF3XDBOI3'\n",
                "VERSION = '20200601'"
            ]
        },
        {
            "execution_count": 18,
            "cell_type": "code",
            "metadata": {},
            "outputs": [],
            "source": [
                "radius=1000\n",
                "url = 'https://api.foursquare.com/v2/venues/explore?client_id={}&client_secret={}&ll={},{}&v={}&radius={}'.format(CLIENT_ID, CLIENT_SECRET, latitude, longitude, VERSION, radius)\n"
            ]
        },
        {
            "cell_type": "code",
            "execution_count": 19,
            "metadata": {},
            "outputs": [],
            "source": [
                "results = requests.get(url).json()"
            ]
        },
        {
            "execution_count": 20,
            "cell_type": "code",
            "metadata": {},
            "outputs": [],
            "source": [
                "#Function to get the category\n",
                "\n",
                "def get_category_type(row):\n",
                "    try:\n",
                "        categories_list = row['categories']\n",
                "    except:\n",
                "        categories_list = row['venue.categories']\n",
                "\n",
                "    if len(categories_list) == 0:\n",
                "        return None\n",
                "    else:\n",
                "        return categories_list[0]['name']"
            ]
        },
        {
            "source": [
                "Using the get_category_type function, we clean up the json and turn it into a pandas dataframe. Before we start that we need to import certain libraries."
            ],
            "cell_type": "markdown",
            "metadata": {}
        },
        {
            "execution_count": 21,
            "cell_type": "code",
            "metadata": {},
            "outputs": [
                {
                    "output_type": "execute_result",
                    "data": {
                        "text/plain": "                       name       categories        lat        lng\n0          Downtown Toronto     Neighborhood  43.653232 -79.385296\n1    Nathan Phillips Square            Plaza  43.652270 -79.383516\n2                    Indigo        Bookstore  43.653515 -79.380696\n3              Chatime 日出茶太  Bubble Tea Shop  43.655542 -79.384684\n4  Textile Museum of Canada       Art Museum  43.654396 -79.386500",
                        "text/html": "<div>\n<style scoped>\n    .dataframe tbody tr th:only-of-type {\n        vertical-align: middle;\n    }\n\n    .dataframe tbody tr th {\n        vertical-align: top;\n    }\n\n    .dataframe thead th {\n        text-align: right;\n    }\n</style>\n<table border=\"1\" class=\"dataframe\">\n  <thead>\n    <tr style=\"text-align: right;\">\n      <th></th>\n      <th>name</th>\n      <th>categories</th>\n      <th>lat</th>\n      <th>lng</th>\n    </tr>\n  </thead>\n  <tbody>\n    <tr>\n      <th>0</th>\n      <td>Downtown Toronto</td>\n      <td>Neighborhood</td>\n      <td>43.653232</td>\n      <td>-79.385296</td>\n    </tr>\n    <tr>\n      <th>1</th>\n      <td>Nathan Phillips Square</td>\n      <td>Plaza</td>\n      <td>43.652270</td>\n      <td>-79.383516</td>\n    </tr>\n    <tr>\n      <th>2</th>\n      <td>Indigo</td>\n      <td>Bookstore</td>\n      <td>43.653515</td>\n      <td>-79.380696</td>\n    </tr>\n    <tr>\n      <th>3</th>\n      <td>Chatime 日出茶太</td>\n      <td>Bubble Tea Shop</td>\n      <td>43.655542</td>\n      <td>-79.384684</td>\n    </tr>\n    <tr>\n      <th>4</th>\n      <td>Textile Museum of Canada</td>\n      <td>Art Museum</td>\n      <td>43.654396</td>\n      <td>-79.386500</td>\n    </tr>\n  </tbody>\n</table>\n</div>"
                    },
                    "metadata": {},
                    "execution_count": 21
                }
            ],
            "source": [
                "import json\n",
                "from pandas.io.json import json_normalize\n",
                "\n",
                "venues = results['response']['groups'][0]['items']\n",
                "\n",
                "nearby_venues = json_normalize(venues) # flatten JSON\n",
                "\n",
                "filtered_columns = ['venue.name', 'venue.categories', 'venue.location.lat', 'venue.location.lng']\n",
                "nearby_venues =nearby_venues.loc[:, filtered_columns]\n",
                "\n",
                "nearby_venues['venue.categories'] = nearby_venues.apply(get_category_type, axis=1)\n",
                "\n",
                "nearby_venues.columns = [col.split(\".\")[-1] for col in nearby_venues.columns]\n",
                "\n",
                "nearby_venues.head()"
            ]
        },
        {
            "source": [
                "Now we can explore the nearby venues!"
            ],
            "cell_type": "markdown",
            "metadata": {}
        },
        {
            "execution_count": 22,
            "cell_type": "code",
            "metadata": {},
            "outputs": [],
            "source": [
                "def getNearbyVenues(names, latitudes, longitudes, radius=500):\n",
                "    \n",
                "    venues_list=[]\n",
                "    for name, lat, lng in zip(names, latitudes, longitudes):\n",
                "        print(name)\n",
                "            \n",
                "        # create the API request URL\n",
                "        url = 'https://api.foursquare.com/v2/venues/explore?&client_id={}&client_secret={}&v={}&ll={},{}&radius={}&limit={}'.format(\n",
                "            CLIENT_ID, \n",
                "            CLIENT_SECRET, \n",
                "            VERSION, \n",
                "            lat, \n",
                "            lng, \n",
                "            radius, \n",
                "            LIMIT)\n",
                "            \n",
                "        # make the GET request\n",
                "        results = requests.get(url).json()[\"response\"]['groups'][0]['items']\n",
                "        \n",
                "        # return only relevant information for each nearby venue\n",
                "        venues_list.append([(\n",
                "            name, \n",
                "            lat, \n",
                "            lng, \n",
                "            v['venue']['name'], \n",
                "            v['venue']['location']['lat'], \n",
                "            v['venue']['location']['lng'],  \n",
                "            v['venue']['categories'][0]['name']) for v in results])\n",
                "\n",
                "    nearby_venues = pd.DataFrame([item for venue_list in venues_list for item in venue_list])\n",
                "    nearby_venues.columns = ['Neighborhood', \n",
                "                  'Neighborhood Latitude', \n",
                "                  'Neighborhood Longitude', \n",
                "                  'Venue', \n",
                "                  'Venue Latitude', \n",
                "                  'Venue Longitude', \n",
                "                  'Venue Category']\n",
                "    \n",
                "    return(nearby_venues)"
            ]
        },
        {
            "execution_count": 23,
            "cell_type": "code",
            "metadata": {},
            "outputs": [
                {
                    "output_type": "stream",
                    "name": "stdout",
                    "text": "Lawrence Park\nDavisville North\nNorth Toronto West, Lawrence Park\nDavisville\nMoore Park, Summerhill East\nSummerhill West, Rathnelly, South Hill, Forest Hill SE, Deer Park\nRoselawn\nForest Hill North & West, Forest Hill Road Park\nThe Annex, North Midtown, Yorkville\nRosedale\nSt. James Town, Cabbagetown\nChurch and Wellesley\nRegent Park, Harbourfront\nGarden District, Ryerson\nSt. James Town\nBerczy Park\nCentral Bay Street\nRichmond, Adelaide, King\nHarbourfront East, Union Station, Toronto Islands\nToronto Dominion Centre, Design Exchange\nCommerce Court, Victoria Hotel\nUniversity of Toronto, Harbord\nKensington Market, Chinatown, Grange Park\nCN Tower, King and Spadina, Railway Lands, Harbourfront West, Bathurst Quay, South Niagara, Island airport\nStn A PO Boxes\nFirst Canadian Place, Underground city\nChristie\nQueen's Park, Ontario Provincial Government\nThe Beaches\nThe Danforth West, Riverdale\nIndia Bazaar, The Beaches West\nStudio District\nBusiness reply mail Processing Centre, South Central Letter Processing Plant Toronto\nParkview Hill, Woodbine Gardens\nWoodbine Heights\nLeaside\nThorncliffe Park\nEast Toronto, Broadview North (Old East York)\nNew Toronto, Mimico South, Humber Bay Shores\nAlderwood, Long Branch\nThe Kingsway, Montgomery Road, Old Mill North\nOld Mill South, King's Mill Park, Sunnylea, Humber Bay, Mimico NE, The Queensway East, Royal York South East, Kingsway Park South East\nMimico NW, The Queensway West, South of Bloor, Kingsway Park South West, Royal York South West\nIslington Avenue, Humber Valley Village\nWest Deane Park, Princess Gardens, Martin Grove, Islington, Cloverdale\nEringate, Bloordale Gardens, Old Burnhamthorpe, Markland Wood\nWestmount\nKingsview Village, St. Phillips, Martin Grove Gardens, Richview Gardens\nSouth Steeles, Silverstone, Humbergate, Jamestown, Mount Olive, Beaumond Heights, Thistletown, Albion Gardens\nNorthwest, West Humber - Clairville\nCanada Post Gateway Processing Centre\nHillcrest Village\nFairview, Henry Farm, Oriole\nBayview Village\nYork Mills, Silver Hills\nWillowdale, Newtonbrook\nWillowdale, Willowdale East\nYork Mills West\nWillowdale, Willowdale West\nParkwoods\nDon Mills\nDon Mills\nBathurst Manor, Wilson Heights, Downsview North\nNorthwood Park, York University\nDownsview\nDownsview\nDownsview\nDownsview\nVictoria Village\nBedford Park, Lawrence Manor East\nLawrence Manor, Lawrence Heights\nGlencairn\nNorth Park, Maple Leaf Park, Upwood Park\nHumber Summit\nHumberlea, Emery\nMalvern, Rouge\nRouge Hill, Port Union, Highland Creek\nGuildwood, Morningside, West Hill\nWoburn\nCedarbrae\nScarborough Village\nKennedy Park, Ionview, East Birchmount Park\nGolden Mile, Clairlea, Oakridge\nCliffside, Cliffcrest, Scarborough Village West\nBirch Cliff, Cliffside West\nDorset Park, Wexford Heights, Scarborough Town Centre\nWexford, Maryvale\nAgincourt\nClarks Corners, Tam O'Shanter, Sullivan\nMilliken, Agincourt North, Steeles East, L'Amoreaux East\nSteeles West, L'Amoreaux West\nUpper Rouge\nDufferin, Dovercourt Village\nLittle Portugal, Trinity\nBrockton, Parkdale Village, Exhibition Place\nHigh Park, The Junction South\nParkdale, Roncesvalles\nRunnymede, Swansea\nHumewood-Cedarvale\nCaledonia-Fairbanks\nDel Ray, Mount Dennis, Keelsdale and Silverthorn\nRunnymede, The Junction North\nWeston\n"
                }
            ],
            "source": [
                "LIMIT = 100\n",
                "toronto_venues = getNearbyVenues(names=toronto_DF['Neighborhood'],\n",
                "                                   latitudes=toronto_DF['Latitude'],\n",
                "                                   longitudes=toronto_DF['Longitude']\n",
                "                                  )"
            ]
        },
        {
            "execution_count": 28,
            "cell_type": "code",
            "metadata": {},
            "outputs": [
                {
                    "output_type": "execute_result",
                    "data": {
                        "text/plain": "       Neighborhood  Neighborhood Latitude  Neighborhood Longitude  \\\n0     Lawrence Park              43.728020              -79.388790   \n1     Lawrence Park              43.728020              -79.388790   \n2     Lawrence Park              43.728020              -79.388790   \n3  Davisville North              43.712751              -79.390197   \n4  Davisville North              43.712751              -79.390197   \n\n                            Venue  Venue Latitude  Venue Longitude  \\\n0            Lawrence Park Ravine       43.726963       -79.394382   \n1              Zodiac Swim School       43.728532       -79.382860   \n2  TTC Bus #162 - Lawrence-Donway       43.728026       -79.382805   \n3     Homeway Restaurant & Brunch       43.712641       -79.391557   \n4                   Sherwood Park       43.716551       -79.387776   \n\n   Venue Category  \n0            Park  \n1     Swim School  \n2        Bus Line  \n3  Breakfast Spot  \n4            Park  ",
                        "text/html": "<div>\n<style scoped>\n    .dataframe tbody tr th:only-of-type {\n        vertical-align: middle;\n    }\n\n    .dataframe tbody tr th {\n        vertical-align: top;\n    }\n\n    .dataframe thead th {\n        text-align: right;\n    }\n</style>\n<table border=\"1\" class=\"dataframe\">\n  <thead>\n    <tr style=\"text-align: right;\">\n      <th></th>\n      <th>Neighborhood</th>\n      <th>Neighborhood Latitude</th>\n      <th>Neighborhood Longitude</th>\n      <th>Venue</th>\n      <th>Venue Latitude</th>\n      <th>Venue Longitude</th>\n      <th>Venue Category</th>\n    </tr>\n  </thead>\n  <tbody>\n    <tr>\n      <th>0</th>\n      <td>Lawrence Park</td>\n      <td>43.728020</td>\n      <td>-79.388790</td>\n      <td>Lawrence Park Ravine</td>\n      <td>43.726963</td>\n      <td>-79.394382</td>\n      <td>Park</td>\n    </tr>\n    <tr>\n      <th>1</th>\n      <td>Lawrence Park</td>\n      <td>43.728020</td>\n      <td>-79.388790</td>\n      <td>Zodiac Swim School</td>\n      <td>43.728532</td>\n      <td>-79.382860</td>\n      <td>Swim School</td>\n    </tr>\n    <tr>\n      <th>2</th>\n      <td>Lawrence Park</td>\n      <td>43.728020</td>\n      <td>-79.388790</td>\n      <td>TTC Bus #162 - Lawrence-Donway</td>\n      <td>43.728026</td>\n      <td>-79.382805</td>\n      <td>Bus Line</td>\n    </tr>\n    <tr>\n      <th>3</th>\n      <td>Davisville North</td>\n      <td>43.712751</td>\n      <td>-79.390197</td>\n      <td>Homeway Restaurant &amp; Brunch</td>\n      <td>43.712641</td>\n      <td>-79.391557</td>\n      <td>Breakfast Spot</td>\n    </tr>\n    <tr>\n      <th>4</th>\n      <td>Davisville North</td>\n      <td>43.712751</td>\n      <td>-79.390197</td>\n      <td>Sherwood Park</td>\n      <td>43.716551</td>\n      <td>-79.387776</td>\n      <td>Park</td>\n    </tr>\n  </tbody>\n</table>\n</div>"
                    },
                    "metadata": {},
                    "execution_count": 28
                }
            ],
            "source": [
                "toronto_venues.head()"
            ]
        },
        {
            "execution_count": 29,
            "cell_type": "code",
            "metadata": {},
            "outputs": [
                {
                    "output_type": "execute_result",
                    "data": {
                        "text/plain": "                                                 Neighborhood Latitude  \\\nNeighborhood                                                             \nAgincourt                                                            4   \nAlderwood, Long Branch                                               8   \nBathurst Manor, Wilson Heights, Downsview North                     20   \nBayview Village                                                      4   \nBedford Park, Lawrence Manor East                                   24   \n...                                                                ...   \nWillowdale, Willowdale West                                          5   \nWoburn                                                               5   \nWoodbine Heights                                                     9   \nYork Mills West                                                      3   \nYork Mills, Silver Hills                                             1   \n\n                                                 Neighborhood Longitude  \\\nNeighborhood                                                              \nAgincourt                                                             4   \nAlderwood, Long Branch                                                8   \nBathurst Manor, Wilson Heights, Downsview North                      20   \nBayview Village                                                       4   \nBedford Park, Lawrence Manor East                                    24   \n...                                                                 ...   \nWillowdale, Willowdale West                                           5   \nWoburn                                                                5   \nWoodbine Heights                                                      9   \nYork Mills West                                                       3   \nYork Mills, Silver Hills                                              1   \n\n                                                 Venue  Venue Latitude  \\\nNeighborhood                                                             \nAgincourt                                            4               4   \nAlderwood, Long Branch                               8               8   \nBathurst Manor, Wilson Heights, Downsview North     20              20   \nBayview Village                                      4               4   \nBedford Park, Lawrence Manor East                   24              24   \n...                                                ...             ...   \nWillowdale, Willowdale West                          5               5   \nWoburn                                               5               5   \nWoodbine Heights                                     9               9   \nYork Mills West                                      3               3   \nYork Mills, Silver Hills                             1               1   \n\n                                                 Venue Longitude  \\\nNeighborhood                                                       \nAgincourt                                                      4   \nAlderwood, Long Branch                                         8   \nBathurst Manor, Wilson Heights, Downsview North               20   \nBayview Village                                                4   \nBedford Park, Lawrence Manor East                             24   \n...                                                          ...   \nWillowdale, Willowdale West                                    5   \nWoburn                                                         5   \nWoodbine Heights                                               9   \nYork Mills West                                                3   \nYork Mills, Silver Hills                                       1   \n\n                                                 Venue Category  \nNeighborhood                                                     \nAgincourt                                                     4  \nAlderwood, Long Branch                                        8  \nBathurst Manor, Wilson Heights, Downsview North              20  \nBayview Village                                               4  \nBedford Park, Lawrence Manor East                            24  \n...                                                         ...  \nWillowdale, Willowdale West                                   5  \nWoburn                                                        5  \nWoodbine Heights                                              9  \nYork Mills West                                               3  \nYork Mills, Silver Hills                                      1  \n\n[96 rows x 6 columns]",
                        "text/html": "<div>\n<style scoped>\n    .dataframe tbody tr th:only-of-type {\n        vertical-align: middle;\n    }\n\n    .dataframe tbody tr th {\n        vertical-align: top;\n    }\n\n    .dataframe thead th {\n        text-align: right;\n    }\n</style>\n<table border=\"1\" class=\"dataframe\">\n  <thead>\n    <tr style=\"text-align: right;\">\n      <th></th>\n      <th>Neighborhood Latitude</th>\n      <th>Neighborhood Longitude</th>\n      <th>Venue</th>\n      <th>Venue Latitude</th>\n      <th>Venue Longitude</th>\n      <th>Venue Category</th>\n    </tr>\n    <tr>\n      <th>Neighborhood</th>\n      <th></th>\n      <th></th>\n      <th></th>\n      <th></th>\n      <th></th>\n      <th></th>\n    </tr>\n  </thead>\n  <tbody>\n    <tr>\n      <th>Agincourt</th>\n      <td>4</td>\n      <td>4</td>\n      <td>4</td>\n      <td>4</td>\n      <td>4</td>\n      <td>4</td>\n    </tr>\n    <tr>\n      <th>Alderwood, Long Branch</th>\n      <td>8</td>\n      <td>8</td>\n      <td>8</td>\n      <td>8</td>\n      <td>8</td>\n      <td>8</td>\n    </tr>\n    <tr>\n      <th>Bathurst Manor, Wilson Heights, Downsview North</th>\n      <td>20</td>\n      <td>20</td>\n      <td>20</td>\n      <td>20</td>\n      <td>20</td>\n      <td>20</td>\n    </tr>\n    <tr>\n      <th>Bayview Village</th>\n      <td>4</td>\n      <td>4</td>\n      <td>4</td>\n      <td>4</td>\n      <td>4</td>\n      <td>4</td>\n    </tr>\n    <tr>\n      <th>Bedford Park, Lawrence Manor East</th>\n      <td>24</td>\n      <td>24</td>\n      <td>24</td>\n      <td>24</td>\n      <td>24</td>\n      <td>24</td>\n    </tr>\n    <tr>\n      <th>...</th>\n      <td>...</td>\n      <td>...</td>\n      <td>...</td>\n      <td>...</td>\n      <td>...</td>\n      <td>...</td>\n    </tr>\n    <tr>\n      <th>Willowdale, Willowdale West</th>\n      <td>5</td>\n      <td>5</td>\n      <td>5</td>\n      <td>5</td>\n      <td>5</td>\n      <td>5</td>\n    </tr>\n    <tr>\n      <th>Woburn</th>\n      <td>5</td>\n      <td>5</td>\n      <td>5</td>\n      <td>5</td>\n      <td>5</td>\n      <td>5</td>\n    </tr>\n    <tr>\n      <th>Woodbine Heights</th>\n      <td>9</td>\n      <td>9</td>\n      <td>9</td>\n      <td>9</td>\n      <td>9</td>\n      <td>9</td>\n    </tr>\n    <tr>\n      <th>York Mills West</th>\n      <td>3</td>\n      <td>3</td>\n      <td>3</td>\n      <td>3</td>\n      <td>3</td>\n      <td>3</td>\n    </tr>\n    <tr>\n      <th>York Mills, Silver Hills</th>\n      <td>1</td>\n      <td>1</td>\n      <td>1</td>\n      <td>1</td>\n      <td>1</td>\n      <td>1</td>\n    </tr>\n  </tbody>\n</table>\n<p>96 rows × 6 columns</p>\n</div>"
                    },
                    "metadata": {},
                    "execution_count": 29
                }
            ],
            "source": [
                "toronto_venues.groupby('Neighborhood').count()\n"
            ]
        },
        {
            "execution_count": 30,
            "cell_type": "code",
            "metadata": {},
            "outputs": [
                {
                    "output_type": "stream",
                    "name": "stdout",
                    "text": "There are 272 uniques categories.\n"
                }
            ],
            "source": [
                "print('There are {} uniques categories.'.format(len(toronto_venues['Venue Category'].unique())))\n"
            ]
        },
        {
            "source": [
                "There are 272 unique categories in which Indian Restaurant is one of them. We will do one hot encoding for getting dummies of venue category. So that we will calculate mean of all venue groupby there neighborhoods.\n"
            ],
            "cell_type": "markdown",
            "metadata": {}
        },
        {
            "execution_count": 31,
            "cell_type": "code",
            "metadata": {},
            "outputs": [
                {
                    "output_type": "execute_result",
                    "data": {
                        "text/plain": "                                       Neighborhood  Yoga Studio  \\\n0                                         Agincourt          0.0   \n1                            Alderwood, Long Branch          0.0   \n2   Bathurst Manor, Wilson Heights, Downsview North          0.0   \n3                                   Bayview Village          0.0   \n4                 Bedford Park, Lawrence Manor East          0.0   \n..                                              ...          ...   \n91                      Willowdale, Willowdale West          0.0   \n92                                           Woburn          0.0   \n93                                 Woodbine Heights          0.0   \n94                                  York Mills West          0.0   \n95                         York Mills, Silver Hills          0.0   \n\n    Accessories Store  Afghan Restaurant  Airport  Airport Food Court  \\\n0                 0.0                0.0      0.0                 0.0   \n1                 0.0                0.0      0.0                 0.0   \n2                 0.0                0.0      0.0                 0.0   \n3                 0.0                0.0      0.0                 0.0   \n4                 0.0                0.0      0.0                 0.0   \n..                ...                ...      ...                 ...   \n91                0.0                0.0      0.0                 0.0   \n92                0.0                0.0      0.0                 0.0   \n93                0.0                0.0      0.0                 0.0   \n94                0.0                0.0      0.0                 0.0   \n95                0.0                0.0      0.0                 0.0   \n\n    Airport Gate  Airport Lounge  Airport Service  Airport Terminal  ...  \\\n0            0.0             0.0              0.0               0.0  ...   \n1            0.0             0.0              0.0               0.0  ...   \n2            0.0             0.0              0.0               0.0  ...   \n3            0.0             0.0              0.0               0.0  ...   \n4            0.0             0.0              0.0               0.0  ...   \n..           ...             ...              ...               ...  ...   \n91           0.0             0.0              0.0               0.0  ...   \n92           0.0             0.0              0.0               0.0  ...   \n93           0.0             0.0              0.0               0.0  ...   \n94           0.0             0.0              0.0               0.0  ...   \n95           0.0             0.0              0.0               0.0  ...   \n\n    Trail  Train Station  Vegetarian / Vegan Restaurant  Video Game Store  \\\n0     0.0            0.0                            0.0               0.0   \n1     0.0            0.0                            0.0               0.0   \n2     0.0            0.0                            0.0               0.0   \n3     0.0            0.0                            0.0               0.0   \n4     0.0            0.0                            0.0               0.0   \n..    ...            ...                            ...               ...   \n91    0.0            0.0                            0.0               0.0   \n92    0.0            0.0                            0.0               0.0   \n93    0.0            0.0                            0.0               0.0   \n94    0.0            0.0                            0.0               0.0   \n95    0.0            0.0                            0.0               0.0   \n\n    Video Store  Vietnamese Restaurant  Warehouse Store  Wine Bar  \\\n0      0.000000                    0.0              0.0       0.0   \n1      0.000000                    0.0              0.0       0.0   \n2      0.000000                    0.0              0.0       0.0   \n3      0.000000                    0.0              0.0       0.0   \n4      0.000000                    0.0              0.0       0.0   \n..          ...                    ...              ...       ...   \n91     0.000000                    0.0              0.0       0.0   \n92     0.000000                    0.0              0.0       0.0   \n93     0.111111                    0.0              0.0       0.0   \n94     0.000000                    0.0              0.0       0.0   \n95     0.000000                    0.0              0.0       0.0   \n\n    Wings Joint  Women's Store  \n0           0.0            0.0  \n1           0.0            0.0  \n2           0.0            0.0  \n3           0.0            0.0  \n4           0.0            0.0  \n..          ...            ...  \n91          0.0            0.0  \n92          0.0            0.0  \n93          0.0            0.0  \n94          0.0            0.0  \n95          0.0            0.0  \n\n[96 rows x 272 columns]",
                        "text/html": "<div>\n<style scoped>\n    .dataframe tbody tr th:only-of-type {\n        vertical-align: middle;\n    }\n\n    .dataframe tbody tr th {\n        vertical-align: top;\n    }\n\n    .dataframe thead th {\n        text-align: right;\n    }\n</style>\n<table border=\"1\" class=\"dataframe\">\n  <thead>\n    <tr style=\"text-align: right;\">\n      <th></th>\n      <th>Neighborhood</th>\n      <th>Yoga Studio</th>\n      <th>Accessories Store</th>\n      <th>Afghan Restaurant</th>\n      <th>Airport</th>\n      <th>Airport Food Court</th>\n      <th>Airport Gate</th>\n      <th>Airport Lounge</th>\n      <th>Airport Service</th>\n      <th>Airport Terminal</th>\n      <th>...</th>\n      <th>Trail</th>\n      <th>Train Station</th>\n      <th>Vegetarian / Vegan Restaurant</th>\n      <th>Video Game Store</th>\n      <th>Video Store</th>\n      <th>Vietnamese Restaurant</th>\n      <th>Warehouse Store</th>\n      <th>Wine Bar</th>\n      <th>Wings Joint</th>\n      <th>Women's Store</th>\n    </tr>\n  </thead>\n  <tbody>\n    <tr>\n      <th>0</th>\n      <td>Agincourt</td>\n      <td>0.0</td>\n      <td>0.0</td>\n      <td>0.0</td>\n      <td>0.0</td>\n      <td>0.0</td>\n      <td>0.0</td>\n      <td>0.0</td>\n      <td>0.0</td>\n      <td>0.0</td>\n      <td>...</td>\n      <td>0.0</td>\n      <td>0.0</td>\n      <td>0.0</td>\n      <td>0.0</td>\n      <td>0.000000</td>\n      <td>0.0</td>\n      <td>0.0</td>\n      <td>0.0</td>\n      <td>0.0</td>\n      <td>0.0</td>\n    </tr>\n    <tr>\n      <th>1</th>\n      <td>Alderwood, Long Branch</td>\n      <td>0.0</td>\n      <td>0.0</td>\n      <td>0.0</td>\n      <td>0.0</td>\n      <td>0.0</td>\n      <td>0.0</td>\n      <td>0.0</td>\n      <td>0.0</td>\n      <td>0.0</td>\n      <td>...</td>\n      <td>0.0</td>\n      <td>0.0</td>\n      <td>0.0</td>\n      <td>0.0</td>\n      <td>0.000000</td>\n      <td>0.0</td>\n      <td>0.0</td>\n      <td>0.0</td>\n      <td>0.0</td>\n      <td>0.0</td>\n    </tr>\n    <tr>\n      <th>2</th>\n      <td>Bathurst Manor, Wilson Heights, Downsview North</td>\n      <td>0.0</td>\n      <td>0.0</td>\n      <td>0.0</td>\n      <td>0.0</td>\n      <td>0.0</td>\n      <td>0.0</td>\n      <td>0.0</td>\n      <td>0.0</td>\n      <td>0.0</td>\n      <td>...</td>\n      <td>0.0</td>\n      <td>0.0</td>\n      <td>0.0</td>\n      <td>0.0</td>\n      <td>0.000000</td>\n      <td>0.0</td>\n      <td>0.0</td>\n      <td>0.0</td>\n      <td>0.0</td>\n      <td>0.0</td>\n    </tr>\n    <tr>\n      <th>3</th>\n      <td>Bayview Village</td>\n      <td>0.0</td>\n      <td>0.0</td>\n      <td>0.0</td>\n      <td>0.0</td>\n      <td>0.0</td>\n      <td>0.0</td>\n      <td>0.0</td>\n      <td>0.0</td>\n      <td>0.0</td>\n      <td>...</td>\n      <td>0.0</td>\n      <td>0.0</td>\n      <td>0.0</td>\n      <td>0.0</td>\n      <td>0.000000</td>\n      <td>0.0</td>\n      <td>0.0</td>\n      <td>0.0</td>\n      <td>0.0</td>\n      <td>0.0</td>\n    </tr>\n    <tr>\n      <th>4</th>\n      <td>Bedford Park, Lawrence Manor East</td>\n      <td>0.0</td>\n      <td>0.0</td>\n      <td>0.0</td>\n      <td>0.0</td>\n      <td>0.0</td>\n      <td>0.0</td>\n      <td>0.0</td>\n      <td>0.0</td>\n      <td>0.0</td>\n      <td>...</td>\n      <td>0.0</td>\n      <td>0.0</td>\n      <td>0.0</td>\n      <td>0.0</td>\n      <td>0.000000</td>\n      <td>0.0</td>\n      <td>0.0</td>\n      <td>0.0</td>\n      <td>0.0</td>\n      <td>0.0</td>\n    </tr>\n    <tr>\n      <th>...</th>\n      <td>...</td>\n      <td>...</td>\n      <td>...</td>\n      <td>...</td>\n      <td>...</td>\n      <td>...</td>\n      <td>...</td>\n      <td>...</td>\n      <td>...</td>\n      <td>...</td>\n      <td>...</td>\n      <td>...</td>\n      <td>...</td>\n      <td>...</td>\n      <td>...</td>\n      <td>...</td>\n      <td>...</td>\n      <td>...</td>\n      <td>...</td>\n      <td>...</td>\n      <td>...</td>\n    </tr>\n    <tr>\n      <th>91</th>\n      <td>Willowdale, Willowdale West</td>\n      <td>0.0</td>\n      <td>0.0</td>\n      <td>0.0</td>\n      <td>0.0</td>\n      <td>0.0</td>\n      <td>0.0</td>\n      <td>0.0</td>\n      <td>0.0</td>\n      <td>0.0</td>\n      <td>...</td>\n      <td>0.0</td>\n      <td>0.0</td>\n      <td>0.0</td>\n      <td>0.0</td>\n      <td>0.000000</td>\n      <td>0.0</td>\n      <td>0.0</td>\n      <td>0.0</td>\n      <td>0.0</td>\n      <td>0.0</td>\n    </tr>\n    <tr>\n      <th>92</th>\n      <td>Woburn</td>\n      <td>0.0</td>\n      <td>0.0</td>\n      <td>0.0</td>\n      <td>0.0</td>\n      <td>0.0</td>\n      <td>0.0</td>\n      <td>0.0</td>\n      <td>0.0</td>\n      <td>0.0</td>\n      <td>...</td>\n      <td>0.0</td>\n      <td>0.0</td>\n      <td>0.0</td>\n      <td>0.0</td>\n      <td>0.000000</td>\n      <td>0.0</td>\n      <td>0.0</td>\n      <td>0.0</td>\n      <td>0.0</td>\n      <td>0.0</td>\n    </tr>\n    <tr>\n      <th>93</th>\n      <td>Woodbine Heights</td>\n      <td>0.0</td>\n      <td>0.0</td>\n      <td>0.0</td>\n      <td>0.0</td>\n      <td>0.0</td>\n      <td>0.0</td>\n      <td>0.0</td>\n      <td>0.0</td>\n      <td>0.0</td>\n      <td>...</td>\n      <td>0.0</td>\n      <td>0.0</td>\n      <td>0.0</td>\n      <td>0.0</td>\n      <td>0.111111</td>\n      <td>0.0</td>\n      <td>0.0</td>\n      <td>0.0</td>\n      <td>0.0</td>\n      <td>0.0</td>\n    </tr>\n    <tr>\n      <th>94</th>\n      <td>York Mills West</td>\n      <td>0.0</td>\n      <td>0.0</td>\n      <td>0.0</td>\n      <td>0.0</td>\n      <td>0.0</td>\n      <td>0.0</td>\n      <td>0.0</td>\n      <td>0.0</td>\n      <td>0.0</td>\n      <td>...</td>\n      <td>0.0</td>\n      <td>0.0</td>\n      <td>0.0</td>\n      <td>0.0</td>\n      <td>0.000000</td>\n      <td>0.0</td>\n      <td>0.0</td>\n      <td>0.0</td>\n      <td>0.0</td>\n      <td>0.0</td>\n    </tr>\n    <tr>\n      <th>95</th>\n      <td>York Mills, Silver Hills</td>\n      <td>0.0</td>\n      <td>0.0</td>\n      <td>0.0</td>\n      <td>0.0</td>\n      <td>0.0</td>\n      <td>0.0</td>\n      <td>0.0</td>\n      <td>0.0</td>\n      <td>0.0</td>\n      <td>...</td>\n      <td>0.0</td>\n      <td>0.0</td>\n      <td>0.0</td>\n      <td>0.0</td>\n      <td>0.000000</td>\n      <td>0.0</td>\n      <td>0.0</td>\n      <td>0.0</td>\n      <td>0.0</td>\n      <td>0.0</td>\n    </tr>\n  </tbody>\n</table>\n<p>96 rows × 272 columns</p>\n</div>"
                    },
                    "metadata": {},
                    "execution_count": 31
                }
            ],
            "source": [
                "toronto_onehot = pd.get_dummies(toronto_venues[['Venue Category']], prefix=\"\", prefix_sep=\"\")\n",
                "\n",
                "toronto_onehot['Neighborhood'] = toronto_venues['Neighborhood']\n",
                "\n",
                "fixed_columns = [toronto_onehot.columns[-1]] + list(toronto_onehot.columns[:-1])\n",
                "toronto_onehot = toronto_onehot[fixed_columns]\n",
                "toronto_grouped = toronto_onehot.groupby('Neighborhood').mean().reset_index()\n",
                "toronto_grouped\n",
                "\n"
            ]
        },
        {
            "execution_count": 34,
            "cell_type": "code",
            "metadata": {},
            "outputs": [
                {
                    "output_type": "stream",
                    "name": "stdout",
                    "text": "Coffee Shop        177\nCafé                99\nRestaurant          68\nPizza Place         52\nPark                50\n                  ... \nDrugstore            1\nSkate Park           1\nHostel               1\nHarbor / Marina      1\nBed & Breakfast      1\nName: Venue Category, Length: 272, dtype: int64\n"
                }
            ],
            "source": [
                "print (toronto_venues['Venue Category'].value_counts())\n"
            ]
        }
    ],
    "metadata": {
        "kernelspec": {
            "display_name": "Python 3.8.2 32-bit",
            "name": "python38232bit52be16dd6a7a497a8cb17c3c3da4fbff",
            "language": "python"
        },
        "language_info": {
            "mimetype": "text/x-python",
            "nbconvert_exporter": "python",
            "version": "3.8.2-final",
            "name": "python",
            "file_extension": ".py",
            "pygments_lexer": "ipython3",
            "codemirror_mode": {
                "version": 3,
                "name": "ipython"
            }
        }
    },
    "nbformat": 4,
    "nbformat_minor": 1
}