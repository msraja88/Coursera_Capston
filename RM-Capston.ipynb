{
 "cells": [
  {
   "cell_type": "markdown",
   "metadata": {},
   "source": [
    "<h1> Capston Project </h1>\n",
    "Creating this notebook to mainly use for CAPSTON projects<br/>\n",
    "Import the pandas library as pd<br/>\n",
    "Import the Numpy library as np<br/>\n",
    "Print the following the statement: Hello Capstone Project Course!\n",
    "\n"
   ]
  },
  {
   "cell_type": "code",
   "execution_count": 1,
   "metadata": {},
   "outputs": [
    {
     "output_type": "stream",
     "name": "stdout",
     "text": "Hello Capstone Project Course!\n"
    }
   ],
   "source": [
    "import pandas as pd \n",
    "import numpy as np\n",
    "print(\"Hello Capstone Project Course!\")"
   ]
  }
 ],
 "metadata": {
  "language_info": {
   "codemirror_mode": {
    "name": "ipython",
    "version": 3
   },
   "file_extension": ".py",
   "mimetype": "text/x-python",
   "name": "python",
   "nbconvert_exporter": "python",
   "pygments_lexer": "ipython3",
   "version": "3.8.2-final"
  },
  "orig_nbformat": 2,
  "kernelspec": {
   "name": "python38232bit52be16dd6a7a497a8cb17c3c3da4fbff",
   "display_name": "Python 3.8.2 32-bit"
  }
 },
 "nbformat": 4,
 "nbformat_minor": 2
}